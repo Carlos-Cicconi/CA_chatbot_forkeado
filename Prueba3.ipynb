{
 "cells": [
  {
   "cell_type": "markdown",
   "metadata": {},
   "source": [
    "### Prueba con Respuesta para RAG"
   ]
  },
  {
   "cell_type": "code",
   "execution_count": null,
   "metadata": {},
   "outputs": [
    {
     "name": "stdout",
     "output_type": "stream",
     "text": [
      "De acuerdo a la búsqueda en nuestra base de datos:\n",
      "Producto: Fastac® en cultivo Maíz controla a la plaga Nezara viridula\n",
      "    Momento de aplicacion: Aplicar, de acuerdo a los umbrales establecidos por INTA, a partir de 0,4 chinches por metro lineal, cuando la soja esté en estado de formación de vainas (R3). Se recomienda trabajar con altos volúmenes que aseguren una buena penetración en el canopeo, logrando al menos 20 gotas/cm2 en la parte media de la planta.\n",
      "    Momento de aplicacion: A partir de la floración cuando se observen 2 chinches por metro lineal \n",
      "\n",
      "La información relevante es: A partir de de acubar a los muy casa en la parte media. Como es nuevo informión a la planta.\n",
      "\n",
      "\"A PORTION OF BUDGETE IS A NICE MEETUP OF PORTIONS\"\n"
     ]
    }
   ],
   "source": [
    "from transformers import pipeline\n",
    "import json\n",
    "\n",
    "# Cargar el archivo de la jerarquía JSON\n",
    "with open(\"grafo_hierarquia.json\", \"r\", encoding=\"utf-8\") as f:\n",
    "    grafo_json = json.load(f)\n",
    "\n",
    "# Función de búsqueda\n",
    "def realizar_consulta(grafo_json, consulta):\n",
    "    resultados = []\n",
    "    for cultivo, data in grafo_json.items():\n",
    "        if consulta.lower() in cultivo.lower():\n",
    "            resultados.append(f\"Encontrado en el cultivo: {cultivo}\")\n",
    "        \n",
    "        if 'Productos' in data:\n",
    "            for producto, info_producto in data['Productos'].items():\n",
    "                if consulta.lower() in producto.lower():\n",
    "                    resultados.append(f\"Encontrado en el producto: {producto} del cultivo {cultivo}\")\n",
    "                \n",
    "                if 'Controla a' in info_producto:\n",
    "                    for plaga, detalles in info_producto['Controla a'].items():\n",
    "                        if consulta.lower() in plaga.lower() or any(consulta.lower() in momento.lower() for momento in detalles['Momento de aplicacion']):\n",
    "                            resultados.append(f\"Producto: {producto} en cultivo {cultivo} controla a la plaga {plaga}\")\n",
    "                            for momento in detalles['Momento de aplicacion']:\n",
    "                                resultados.append(f\"    Momento de aplicacion: {momento}\")\n",
    "    \n",
    "    return resultados\n",
    "\n",
    "# Crear contexto de respuesta con resultados de búsqueda\n",
    "def generar_respuesta(contexto):\n",
    "    generator = pipeline(\"text-generation\", model=\"gpt2\")\n",
    "    \n",
    "    # Limitar el contexto a 512 tokens (aproximadamente) para evitar desbordamientos\n",
    "    max_context_length = 512\n",
    "    prompt = \"De acuerdo a la búsqueda en nuestra base de datos:\\n\" + contexto[:max_context_length] + \"\\n\\nLa información relevante es:\"\n",
    "\n",
    "    # Generar la respuesta\n",
    "    respuesta = generator(prompt, max_new_tokens=100, num_return_sequences=1, truncation=True, pad_token_id=50256)\n",
    "    return respuesta[0]['generated_text']\n",
    "\n"
   ]
  },
  {
   "cell_type": "code",
   "execution_count": null,
   "metadata": {},
   "outputs": [],
   "source": [
    "# Ejemplo de uso\n",
    "consulta = \"Soja\"\n",
    "resultados = realizar_consulta(grafo_json, consulta)\n",
    "\n",
    "# Crear el contexto y generar la respuesta\n",
    "if resultados:\n",
    "    contexto = \"\\n\".join(resultados)\n",
    "    respuesta = generar_respuesta(contexto)\n",
    "    print(respuesta)\n",
    "else:\n",
    "    print(\"No se encontraron resultados.\")\n"
   ]
  },
  {
   "cell_type": "code",
   "execution_count": 19,
   "metadata": {},
   "outputs": [
    {
     "name": "stdout",
     "output_type": "stream",
     "text": [
      "De acuerdo a la búsqueda en nuestra base de datos:\n",
      "Producto: 7344 VT Triple PRO en cultivo Maíz controla a la plaga Spodoptera frugiperda\n",
      "    Momento de aplicacion: Aplicar cuando se registren 3-4 Isocas por m².\n",
      "    Momento de aplicacion: Antes de floración, aplicar al observar 15 Isocas por metro lineal de surco y más de 25 % de daño al follaje. Desde floración, aplicar al observar 10-15 Orugas por metro lineal de surco y más de 10 % de daño al follaje.\n",
      "    Momento de aplicacion: Aplicar en mezcla con herbicidas de presiembra o preemergencia, con incorpora\n",
      "\n",
      "\n"
     ]
    }
   ],
   "source": [
    "# Genera la respuesta como hasta ahora\n",
    "respuesta_generada = generar_respuesta(contexto)\n",
    "\n",
    "# Divide y filtra el texto generado si detecta la frase confusa\n",
    "respuesta_final = respuesta_generada.split(\"La información relevante es:\")[0]\n",
    "print(respuesta_final)\n"
   ]
  },
  {
   "cell_type": "code",
   "execution_count": 24,
   "metadata": {},
   "outputs": [
    {
     "name": "stdout",
     "output_type": "stream",
     "text": [
      "De acuerdo a la búsqueda en nuestra base de datos:\n",
      "Producto: Pirate® en cultivo Maíz controla a la plaga Spodoptera frugiperda\n",
      "Producto: Pirate® en cultivo Soja controla a la plaga Spodoptera frugiperda\n",
      "\n",
      "La información relevante es:\n",
      "\n",
      "Vivello difíncia más más de lo esse.\n",
      "\n",
      "¿Qué no acuerdo?\n",
      "\n",
      "¿Querí para específico porque más piedra?\n",
      "\n",
      "\n",
      "(E+W+S+N.I.)\n",
      "\n",
      "All Rights Reserved. For non-commercial uses. For additional legal and factual information visit the Anti-Piracy Centre or visit the WorldWideWeb.org, www.\n"
     ]
    }
   ],
   "source": [
    "# Supongamos que `resultados` es una lista de textos con la información obtenida de la base de datos\n",
    "producto_buscado = \"pirate\"\n",
    "\n",
    "# Filtrar resultados que contienen el nombre exacto del producto\n",
    "resultados_filtrados = [resultado for resultado in resultados if producto_buscado.lower() in resultado.lower()]\n",
    "\n",
    "if resultados_filtrados:\n",
    "    contexto = \"\\n\".join(resultados_filtrados)\n",
    "    respuesta = generar_respuesta(contexto)\n",
    "    print(respuesta)\n",
    "else:\n",
    "    print(f\"No se encontró información específica para el producto '{producto_buscado}'.\")\n"
   ]
  },
  {
   "cell_type": "code",
   "execution_count": 25,
   "metadata": {},
   "outputs": [
    {
     "name": "stdout",
     "output_type": "stream",
     "text": [
      "De acuerdo a la búsqueda en nuestra base de datos:\n",
      "Momento de aplicacion: Aplicar cuando se observe un 15 % de plantas atacadas (“raspado” de vainas foliares) con larvas en los primeros estadíos (L1 y L2). Puede ser necesaria más de una aplicación en caso de reinfestación.\n"
     ]
    }
   ],
   "source": [
    "def limpiar_respuesta(texto):\n",
    "    # Frases que suelen indicar el inicio de contenido irrelevante\n",
    "    frases_indeseadas = [\n",
    "        \"La información relevante es:\", \"Mendo\", \"Mi nuevo\", \"El de los miños\",\n",
    "        \"Lada e los\", \"ouestrategas\", \"Dianos nuevas\"\n",
    "    ]\n",
    "    \n",
    "    # Cortar el texto en el primer punto donde aparezca alguna de estas frases\n",
    "    for frase in frases_indeseadas:\n",
    "        if frase in texto:\n",
    "            texto = texto.split(frase)[0]\n",
    "            break  # Deja de buscar más frases después de cortar el texto\n",
    "    \n",
    "    # Retorna el texto limpio, sin espacios extra\n",
    "    return texto.strip()\n",
    "\n",
    "# Ejemplo de aplicación de limpieza en la respuesta generada\n",
    "respuesta_generada = \"\"\"\n",
    "De acuerdo a la búsqueda en nuestra base de datos:\n",
    "Momento de aplicacion: Aplicar cuando se observe un 15 % de plantas atacadas (“raspado” de vainas foliares) con larvas en los primeros estadíos (L1 y L2). Puede ser necesaria más de una aplicación en caso de reinfestación.\n",
    "La información relevante es:\n",
    "Mendo la entre nueva a los mensos o sus enviados, con la encomer de el bajo, por tu entre o más:\n",
    "Mi nuevo a los unmas por sus encomer:\n",
    "El de los miños a la encomer:\n",
    "Dianos nuevas que se se podítico a los\n",
    "Lada e los ouestrategas:\n",
    "\"\"\"\n",
    "\n",
    "# Limpiar la respuesta\n",
    "respuesta_limpia = limpiar_respuesta(respuesta_generada)\n",
    "print(respuesta_limpia)\n"
   ]
  },
  {
   "cell_type": "code",
   "execution_count": 31,
   "metadata": {},
   "outputs": [
    {
     "name": "stdout",
     "output_type": "stream",
     "text": [
      "Los productos disponibles para el cultivo de Soja son: Fastac®, Pirate®, Nomolt®, Acronis®, CZ  3621 STS, CZ 3.45 S STS, CZ 3.45 S STS I, CZ 3.85 S, CZ 3.85 S I, CZ 4.97, CZ 4.97 S I, CZ 4021 STS, CZ 4306, CZ 4306 B I, CZ 4505 B STS I, CZ 4505 STS, CZ 4721 STS, CZ 5407 IPRO, CZ 5407 IPRO I, CZ 5907 IPRO, CZ 5907 IPRO I, CZ 6205, CZ 6205 B I, CZ 6505, CZ 6505 B I, CZ 6806 IPRO, CZ 6806 IPRO I, CZ 7521 IPRO STS, CZ 7905 IPRO, CZ 7905 IPRO I, Duett® Plus, Opera® , Orquesta® Ultra, Priaxor®, Color Coat™, FloRite® 1127, FloRite® 1197, Gestus®, Hicoat® Super, HiStick® Plus, HiStick® Plus + Acronis®, Vault® HP, Vault® HP + Acronis®, Alika®, Imunit®, Fastac® Duo, Atectra® BV, Heat® , Optill®, Zidua® Pack, Interfield®, Pivot® H, Poast®, Basagran 60, Basagran® 60, Dash® MSO MAX, LactoSilo® Gold\n"
     ]
    }
   ],
   "source": [
    "import json\n",
    "\n",
    "# Cargar el archivo JSON\n",
    "with open(\"grafo_hierarquia.json\", \"r\", encoding=\"utf-8\") as f:\n",
    "    datos_json = json.load(f)\n",
    "\n",
    "# Función para obtener productos específicos para un cultivo\n",
    "def obtener_productos_por_cultivo(datos, cultivo):\n",
    "    productos = []\n",
    "    if cultivo in datos:\n",
    "        for producto in datos[cultivo].get(\"Productos\", {}):\n",
    "            productos.append(producto)\n",
    "    return productos\n",
    "\n",
    "# Consultar los productos para soja\n",
    "cultivo = \"Soja\"\n",
    "productos_soja = obtener_productos_por_cultivo(datos_json, cultivo)\n",
    "\n",
    "# Generar respuesta en lenguaje natural\n",
    "if productos_soja:\n",
    "    respuesta = f\"Los productos disponibles para el cultivo de {cultivo} son: \" + \", \".join(productos_soja)\n",
    "else:\n",
    "    respuesta = f\"No se encontraron productos específicos para el cultivo de {cultivo}.\"\n",
    "\n",
    "print(respuesta)\n"
   ]
  },
  {
   "cell_type": "code",
   "execution_count": 33,
   "metadata": {},
   "outputs": [
    {
     "name": "stdout",
     "output_type": "stream",
     "text": [
      "El producto Fastac® controla las siguientes plagas:\n",
      "- Helicoverpa gelotopoeon:\n",
      "- Spodoptera frugiperda:\n",
      "- Anticarsia gemmatalis:\n",
      "- Nezara viridula:\n",
      "- Rachiplusia nu:\n",
      "- Porosagrotis gypaetina:\n",
      "- Pseudaletia adultera:\n",
      "- Alabama argillacea:\n",
      "\n"
     ]
    }
   ],
   "source": [
    "import json\n",
    "\n",
    "# Cargar el archivo JSON\n",
    "with open(\"grafo_hierarquia.json\", \"r\", encoding=\"utf-8\") as f:\n",
    "    datos_json = json.load(f)\n",
    "\n",
    "# Función para obtener las plagas controladas por un producto específico\n",
    "def obtener_plagas_por_producto(datos, producto):\n",
    "    plagas_controladas = {}\n",
    "    for cultivo, info_cultivo in datos.items():\n",
    "        for prod, info_producto in info_cultivo.get(\"Productos\", {}).items():\n",
    "            if producto.lower() == prod.lower():  # Comparar con insensibilidad a mayúsculas\n",
    "                plagas_controladas[producto] = info_producto.get(\"Controla a\", {})\n",
    "    return plagas_controladas\n",
    "\n",
    "# Consultar las plagas controladas por Fastac\n",
    "producto = \"Fastac®\"\n",
    "plagas_controladas = obtener_plagas_por_producto(datos_json, producto)\n",
    "\n",
    "# Generar respuesta en lenguaje natural\n",
    "if plagas_controladas:\n",
    "    respuesta = f\"El producto {producto} controla las siguientes plagas:\\n\"\n",
    "    for plaga, detalles in plagas_controladas[producto].items():\n",
    "        respuesta += f\"- {plaga}:\\n\"\n",
    "    \n",
    "else:\n",
    "    respuesta = f\"No se encontraron plagas controladas por el producto {producto}.\"\n",
    "\n",
    "print(respuesta)\n"
   ]
  },
  {
   "cell_type": "code",
   "execution_count": 37,
   "metadata": {},
   "outputs": [
    {
     "name": "stdout",
     "output_type": "stream",
     "text": [
      "El producto Fastac® controla las siguientes plagas:\n",
      "- Helicoverpa gelotopoeon:\n",
      "  * Momento de aplicación: Aplicar cuando se registren 3-4 Isocas por m².\n",
      "  * Momento de aplicación: Iniciar los tratamientos cuando se detecten 3 o 4 Isocas por metro lineal de surco. Realizar tratamientos terrestres antes de que el cultivo supere los 50 cm de altura, con caudales de 100 Litros/ha.\n",
      "  * Momento de aplicación: *Adicionar coadyuvante (DASH MSO MAX) a razón de 250 cc/ha. Aplicar cuando se alcance el umbral de 1 a 2 larvas (L1-L2) /m lineal de surco. Estadío del cultivo en estadío vegetativos tempranos. \n",
      "- Spodoptera frugiperda:\n",
      "  * Momento de aplicación: Aplicar cuando se registren 3-4 Isocas por m².\n",
      "  * Momento de aplicación: Antes de floración, aplicar al observar 15 Isocas por metro lineal de surco y más de 25 % de daño al follaje. Desde floración, aplicar al observar 10-15 Orugas por metro lineal de surco y más de 10 % de daño al follaje.\n",
      "  * Momento de aplicación: Aplicar en mezcla con herbicidas de presiembra o preemergencia, con incorporación superficial. O posteriormente, cuando se observe la presencia de la plaga o daños; en este último caso, aplicar al atardecer, dirigiendo la aplicación a la línea de siembra.\n",
      "  * Momento de aplicación: Aplicar cuando se observe un 15 % de plantas atacadas (“raspado” de vainas foliares) con larvas en los primeros estadíos (L1 y L2). Puede ser necesaria más de una aplicación en caso de reinfestación. Muestreo del cultivo: realizar el monitoreo del lote a partir de 2 hojas en adelante. Observar de 5 a 10 puntos del lote. Evaluar 100 plantas por punto. Se aconseja el agregado en mezcla de tanque de Fastac® (alfacipermetrina 10 %) a razón de 100 cm3/ha para mejorar el poder de volteo del producto Nomolt®.\n",
      "  * Momento de aplicación: *Adicionar coadyuvante (DASH MSO MAX) a razón de 250 cc/ha. Aplicar cuando se observe 15% de plantas atacadas, preferentemente a inicio de ataque. Utilizar la dosis mayor con alta infestación de la plaga.\n",
      "- Anticarsia gemmatalis:\n",
      "  * Momento de aplicación: Aplicar al alcanzar un umbral de 10-20 orugas mayores a 1.5 cm/m2. Se recomienda trabajar con altos volúmenes que aseguren una buena penetración en el canopeo, logrando al menos 20 gotas/cm2 en la parte media de la planta.\n",
      "  * Momento de aplicación: Antes de floración, aplicar al observar 15 Isocas por metro lineal de surco y más de 25 % de daño al follaje. Desde floración, aplicar al observar 10-15 Orugas por metro lineal de surco y más de 10 % de daño al follaje.\n",
      "  * Momento de aplicación: Desde floración, aplicar al observar 10-15 Orugas por metro lineal de surco y más de 10 % de daño al follaje. La aplicación de Imunit® debe realizarse cuando los estadíos larvales (L1-L2) se encuentren en mayor proporción, de manera de poder interferir temprano el proceso de muda larval.\n",
      "  * Momento de aplicación: Aplicar ante las primeras observaciones de larvas en los primeros estadíos (L1 y L2), con un porcentaje promedio de área dañada del 15%. En el manejo raciona de plagas es importante hacer monitoreos frecuentes de las mismas para determinar el umbral de daño económico.\n",
      "  * Momento de aplicación: *Adicionar coadyuvante (DASH MSO MAX) a razón de 250 cc/ha. Aplicar cuando se observen 10-15 larvas por metro de surco. Larvas con tamaño < 1,5 cm (L2-L3). No realizar más de dos aplicaciones por ciclo de cultivo. \n",
      "- Nezara viridula:\n",
      "  * Momento de aplicación: Aplicar, de acuerdo a los umbrales establecidos por INTA, a partir de 0,4 chinches por metro lineal, cuando la soja esté en estado de formación de vainas (R3). Se recomienda trabajar con altos volúmenes que aseguren una buena penetración en el canopeo, logrando al menos 20 gotas/cm2 en la parte media de la planta.\n",
      "  * Momento de aplicación: A partir de la floración cuando se observen 2 chinches por metro lineal de surco. Mezclar con 500 cc de endosulfán 35%.\n",
      "  * Momento de aplicación: Comenzar aplicaciones al inicio de ataque, siguiendo los umbrales establecidos por INTA, desde 0,4 chinches/m (adultos + ninfas mayores a 0,5 cm), cuando el cultivo esté en inicio de formación de vainas (R3). No realizar más de dos aplicaciones por ciclo de cultivo.\n",
      "- Rachiplusia nu:\n",
      "  * Momento de aplicación: Aplicar cuando se registren 3-4 Isocas por m².\n",
      "- Porosagrotis gypaetina:\n",
      "  * Momento de aplicación: Aplicar en mezcla con herbicidas de presiembra o preemergencia, con incorporación superficial. O posteriormente, cuando se observe la presencia de la plaga o daños; en este último caso, aplicar al atardecer, dirigiendo la aplicación a la línea de siembra.\n",
      "- Pseudaletia adultera:\n",
      "  * Momento de aplicación: Aplicar cuando se observen 4-5 Orugas por m² ó 20.\n",
      "- Alabama argillacea:\n",
      "  * Momento de aplicación: Aplicar cuando el grado de infestación sea de 5 Orugas o más por planta, promedio. Esta dosis sólo controla los tres primeros estadíos larvales.\n",
      "  * Momento de aplicación: Aplicar cuando el grado de infestación sea de 5 Orugas o más por planta, promedio.* Esta dosis sólo controla los tres primeros estadíos larvales.\n",
      "  * Momento de aplicación: Dosificar según desarrollo del cultivo e infestación. Iniciar aplicación al observar las primeras larvas.\n",
      "  * Momento de aplicación: *Debe agregarase aceite emulsionable en la proporción de 0,3 % de volúmen de aceite en volúmen de caldo. Aplicar cuando se observan 15-20 larvas por metro de surco, preferentemente hasta L3 (larvas de 1,5-2 cm).\n",
      "\n"
     ]
    }
   ],
   "source": [
    "import json\n",
    "\n",
    "# Cargar el archivo JSON\n",
    "with open(\"grafo_hierarquia.json\", \"r\", encoding=\"utf-8\") as f:\n",
    "    datos_json = json.load(f)\n",
    "\n",
    "# Función para obtener las plagas controladas por un producto específico\n",
    "def obtener_plagas_por_producto(datos, producto):\n",
    "    plagas_controladas = {}\n",
    "    for cultivo, info_cultivo in datos.items():\n",
    "        for prod, info_producto in info_cultivo.get(\"Productos\", {}).items():\n",
    "            if producto.lower() == prod.lower():  # Comparar con insensibilidad a mayúsculas\n",
    "                plagas_controladas[producto] = info_producto.get(\"Controla a\", {})\n",
    "    return plagas_controladas\n",
    "\n",
    "# Consultar las plagas controladas por Fastac\n",
    "producto = \"Fastac®\"\n",
    "plagas_controladas = obtener_plagas_por_producto(datos_json, producto)\n",
    "\n",
    "# Generar respuesta en lenguaje natural\n",
    "if plagas_controladas:\n",
    "    respuesta = f\"El producto {producto} controla las siguientes plagas:\\n\"\n",
    "    for plaga, detalles in plagas_controladas[producto].items():\n",
    "        respuesta += f\"- {plaga}:\\n\"\n",
    "        for momento in detalles.get(\"Momento de aplicacion\", []):\n",
    "            respuesta += f\"  * Momento de aplicación: {momento}\\n\"\n",
    "else:\n",
    "    respuesta = f\"No se encontraron plagas controladas por el producto {producto}.\"\n",
    "\n",
    "print(respuesta)\n"
   ]
  },
  {
   "cell_type": "code",
   "execution_count": 36,
   "metadata": {},
   "outputs": [
    {
     "name": "stdout",
     "output_type": "stream",
     "text": [
      "El momento de aplicación para Fastac® en el cultivo Maíz contra la plaga Spodoptera frugiperda es:\n",
      "- Aplicar cuando se registren 3-4 Isocas por m².\n",
      "- Antes de floración, aplicar al observar 15 Isocas por metro lineal de surco y más de 25 % de daño al follaje. Desde floración, aplicar al observar 10-15 Orugas por metro lineal de surco y más de 10 % de daño al follaje.\n",
      "- Aplicar en mezcla con herbicidas de presiembra o preemergencia, con incorporación superficial. O posteriormente, cuando se observe la presencia de la plaga o daños; en este último caso, aplicar al atardecer, dirigiendo la aplicación a la línea de siembra.\n",
      "- Aplicar cuando se observe un 15 % de plantas atacadas (“raspado” de vainas foliares) con larvas en los primeros estadíos (L1 y L2). Puede ser necesaria más de una aplicación en caso de reinfestación. Muestreo del cultivo: realizar el monitoreo del lote a partir de 2 hojas en adelante. Observar de 5 a 10 puntos del lote. Evaluar 100 plantas por punto. Se aconseja el agregado en mezcla de tanque de Fastac® (alfacipermetrina 10 %) a razón de 100 cm3/ha para mejorar el poder de volteo del producto Nomolt®.\n",
      "- *Adicionar coadyuvante (DASH MSO MAX) a razón de 250 cc/ha. Aplicar cuando se observe 15% de plantas atacadas, preferentemente a inicio de ataque. Utilizar la dosis mayor con alta infestación de la plaga.\n",
      "\n"
     ]
    }
   ],
   "source": [
    "import json\n",
    "\n",
    "# Cargar el archivo JSON\n",
    "with open(\"grafo_hierarquia.json\", \"r\", encoding=\"utf-8\") as f:\n",
    "    datos_json = json.load(f)\n",
    "\n",
    "# Función para obtener el momento de aplicación para un producto, cultivo y plaga específicos\n",
    "def obtener_momento_aplicacion(datos, cultivo, producto, plaga):\n",
    "    momentos_aplicacion = []\n",
    "    \n",
    "    # Buscar el cultivo y producto especificado\n",
    "    if cultivo in datos:\n",
    "        productos = datos[cultivo].get(\"Productos\", {})\n",
    "        \n",
    "        # Buscar el producto especificado dentro del cultivo\n",
    "        if producto in productos:\n",
    "            plagas = productos[producto].get(\"Controla a\", {})\n",
    "            \n",
    "            # Buscar la plaga especificada dentro del producto\n",
    "            if plaga in plagas:\n",
    "                momentos_aplicacion = plagas[plaga].get(\"Momento de aplicacion\", [])\n",
    "    \n",
    "    return momentos_aplicacion\n",
    "\n",
    "# Parámetros de la consulta\n",
    "cultivo = \"Maíz\"\n",
    "producto = \"Fastac®\"\n",
    "plaga = \"Spodoptera frugiperda\"\n",
    "\n",
    "# Obtener el momento de aplicación para el producto, cultivo y plaga especificados\n",
    "momentos_aplicacion = obtener_momento_aplicacion(datos_json, cultivo, producto, plaga)\n",
    "\n",
    "# Generar una respuesta en lenguaje natural\n",
    "if momentos_aplicacion:\n",
    "    respuesta = f\"El momento de aplicación para {producto} en el cultivo {cultivo} contra la plaga {plaga} es:\\n\"\n",
    "    for momento in momentos_aplicacion:\n",
    "        respuesta += f\"- {momento}\\n\"\n",
    "else:\n",
    "    respuesta = f\"No se encontraron momentos de aplicación para {producto} en el cultivo {cultivo} contra la plaga {plaga}.\"\n",
    "\n",
    "print(respuesta)\n",
    "\n"
   ]
  }
 ],
 "metadata": {
  "kernelspec": {
   "display_name": "Python 3",
   "language": "python",
   "name": "python3"
  },
  "language_info": {
   "codemirror_mode": {
    "name": "ipython",
    "version": 3
   },
   "file_extension": ".py",
   "mimetype": "text/x-python",
   "name": "python",
   "nbconvert_exporter": "python",
   "pygments_lexer": "ipython3",
   "version": "3.10.12"
  }
 },
 "nbformat": 4,
 "nbformat_minor": 2
}
