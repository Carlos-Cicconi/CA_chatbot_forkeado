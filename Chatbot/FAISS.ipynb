{
 "cells": [
  {
   "cell_type": "code",
   "execution_count": 2,
   "metadata": {},
   "outputs": [
    {
     "name": "stderr",
     "output_type": "stream",
     "text": [
      "c:\\Users\\cacic\\anaconda3\\envs\\ldi2\\Lib\\site-packages\\tqdm\\auto.py:21: TqdmWarning: IProgress not found. Please update jupyter and ipywidgets. See https://ipywidgets.readthedocs.io/en/stable/user_install.html\n",
      "  from .autonotebook import tqdm as notebook_tqdm\n",
      "c:\\Users\\cacic\\anaconda3\\envs\\ldi2\\Lib\\site-packages\\huggingface_hub\\file_download.py:139: UserWarning: `huggingface_hub` cache-system uses symlinks by default to efficiently store duplicated files but your machine does not support them in C:\\Users\\cacic\\.cache\\huggingface\\hub\\models--sentence-transformers--all-MiniLM-L6-v2. Caching files will still work but in a degraded version that might require more space on your disk. This warning can be disabled by setting the `HF_HUB_DISABLE_SYMLINKS_WARNING` environment variable. For more details, see https://huggingface.co/docs/huggingface_hub/how-to-cache#limitations.\n",
      "To support symlinks on Windows, you either need to activate Developer Mode or to run Python as an administrator. In order to activate developer mode, see this article: https://docs.microsoft.com/en-us/windows/apps/get-started/enable-your-device-for-development\n",
      "  warnings.warn(message)\n"
     ]
    }
   ],
   "source": [
    "import faiss\n",
    "import numpy as np\n",
    "from sentence_transformers import SentenceTransformer\n",
    "\n",
    "# Cargar modelo de embeddings\n",
    "model = SentenceTransformer('all-MiniLM-L6-v2')\n",
    "\n"
   ]
  },
  {
   "cell_type": "code",
   "execution_count": 3,
   "metadata": {},
   "outputs": [],
   "source": [
    "import json\n",
    "\n",
    "# Cargar el archivo JSON\n",
    "with open(\"grafo_hierarquia.json\", \"r\", encoding=\"utf-8\") as file:\n",
    "    grafo_json = json.load(file)\n",
    "    \n",
    "# Ahora `grafo_json` debería estar disponible para su uso en el bucle\n",
    "nodos = []\n",
    "for categoria, data in grafo_json.items():\n",
    "    nodos.append(categoria)\n",
    "    if 'subcategorias' in data:\n",
    "        for subcategoria in data['subcategorias']:\n",
    "            nodos.append(subcategoria)\n"
   ]
  },
  {
   "cell_type": "code",
   "execution_count": 4,
   "metadata": {},
   "outputs": [],
   "source": [
    "# Generar los embeddings para los nodos\n",
    "embeddings = model.encode(nodos)"
   ]
  },
  {
   "cell_type": "code",
   "execution_count": 5,
   "metadata": {},
   "outputs": [],
   "source": [
    "# Crear índice FAISS\n",
    "index = faiss.IndexFlatL2(embeddings.shape[1])  # Usar L2 distance\n",
    "index.add(np.array(embeddings))"
   ]
  },
  {
   "cell_type": "code",
   "execution_count": 6,
   "metadata": {},
   "outputs": [],
   "source": [
    "# Función de consulta\n",
    "def consulta_rag(consulta, index, nodos, model, k=5):\n",
    "    consulta_embedding = model.encode([consulta])\n",
    "    D, I = index.search(np.array(consulta_embedding), k=k)  # Buscar los 'k' nodos más cercanos\n",
    "    \n",
    "    print(f\"Consulta: {consulta}\")\n",
    "    for i in range(k):\n",
    "        print(f\"Resultado {i + 1}: {nodos[I[0][i]]} (Distancia: {D[0][i]:.4f})\")\n"
   ]
  },
  {
   "cell_type": "code",
   "execution_count": 7,
   "metadata": {},
   "outputs": [],
   "source": [
    "# Crear una lista de nodos (incluyendo plagas y momentos de aplicación)\n",
    "nodos = []\n",
    "\n",
    "# Recorrer la jerarquía de datos (categorías -> productos -> plagas -> momentos de aplicación)\n",
    "for cultivo, datos_cultivo in grafo_json.items():\n",
    "    nodos.append(cultivo)  # Añadir el cultivo como nodo\n",
    "    if 'Productos' in datos_cultivo:\n",
    "        for producto, info_producto in datos_cultivo['Productos'].items():\n",
    "            nodos.append(producto)  # Añadir el producto como nodo\n",
    "            if 'Controla a' in info_producto:\n",
    "                for plaga, detalles in info_producto['Controla a'].items():\n",
    "                    nodos.append(plaga)  # Añadir la plaga como nodo\n",
    "                    for momento in detalles['Momento de aplicacion']:\n",
    "                        nodos.append(momento)  # Añadir el momento de aplicación como nodo\n"
   ]
  },
  {
   "cell_type": "code",
   "execution_count": 8,
   "metadata": {},
   "outputs": [
    {
     "name": "stdout",
     "output_type": "stream",
     "text": [
      "Embeddings y FAISS guardados exitosamente.\n"
     ]
    }
   ],
   "source": [
    "#Esta corrida demora aproximadamente 12 minutos\n",
    "\n",
    "import faiss\n",
    "import numpy as np\n",
    "from sentence_transformers import SentenceTransformer\n",
    "\n",
    "# Crear un modelo de embeddings (por ejemplo, Sentence-BERT)\n",
    "model = SentenceTransformer('all-MiniLM-L6-v2')\n",
    "\n",
    "# Convertir los nodos a embeddings\n",
    "nodos_embeddings = model.encode(nodos)\n",
    "\n",
    "# Convertir los embeddings a un array NumPy\n",
    "nodos_embeddings = np.array(nodos_embeddings)\n",
    "\n",
    "# Guardar los embeddings como archivo .npy\n",
    "np.save('nodos_embeddings.npy', nodos_embeddings)\n",
    "\n",
    "# Crear un índice FAISS (usando el índice de búsqueda más cercano)\n",
    "index = faiss.IndexFlatL2(nodos_embeddings.shape[1])  # Usar L2 para medir la distancia\n",
    "index.add(nodos_embeddings)  # Agregar los embeddings al índice\n",
    "\n",
    "# Guardar el índice FAISS en un archivo\n",
    "faiss.write_index(index, 'nodos_index.faiss')\n",
    "\n",
    "print(\"Embeddings y FAISS guardados exitosamente.\")\n"
   ]
  },
  {
   "cell_type": "code",
   "execution_count": 15,
   "metadata": {},
   "outputs": [
    {
     "name": "stdout",
     "output_type": "stream",
     "text": [
      "Consulta: Arroz\n",
      "Resultado 1: Arroz (Distancia: 0.0000)\n",
      "Resultado 2: Arveja (Distancia: 0.6242)\n",
      "Resultado 3: Maíz (Distancia: 1.0417)\n",
      "Resultado 4: Avena (Distancia: 1.0425)\n",
      "Resultado 5: Acelga (Distancia: 1.0491)\n",
      "Resultado 6: Zarzamora (Distancia: 1.0529)\n",
      "Resultado 7: Pomelo (Distancia: 1.0969)\n",
      "Resultado 8: Almendro (Distancia: 1.1251)\n",
      "Resultado 9: Garbanzo (Distancia: 1.1260)\n",
      "Resultado 10: CZ 7905 IPRO I (Distancia: 1.1445)\n"
     ]
    }
   ],
   "source": [
    "# Función de consulta\n",
    "def consulta_rag(consulta, index, nodos, model, k=10):\n",
    "    consulta_embedding = model.encode([consulta])  # Codificar la consulta\n",
    "    D, I = index.search(np.array(consulta_embedding), k)  # Buscar los k nodos más cercanos\n",
    "    \n",
    "    print(f\"Consulta: {consulta}\")\n",
    "    for i in range(k):\n",
    "        print(f\"Resultado {i + 1}: {nodos[I[0][i]]} (Distancia: {D[0][i]:.4f})\")\n",
    "\n",
    "# Ejemplo de consulta\n",
    "consulta_rag(\"Arroz\", index, nodos, model)\n"
   ]
  }
 ],
 "metadata": {
  "kernelspec": {
   "display_name": "ldi2",
   "language": "python",
   "name": "python3"
  },
  "language_info": {
   "codemirror_mode": {
    "name": "ipython",
    "version": 3
   },
   "file_extension": ".py",
   "mimetype": "text/x-python",
   "name": "python",
   "nbconvert_exporter": "python",
   "pygments_lexer": "ipython3",
   "version": "3.12.4"
  }
 },
 "nbformat": 4,
 "nbformat_minor": 2
}
