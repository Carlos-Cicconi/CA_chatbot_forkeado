{
 "cells": [
  {
   "cell_type": "code",
   "execution_count": 1,
   "metadata": {},
   "outputs": [
    {
     "name": "stderr",
     "output_type": "stream",
     "text": [
      "/home/gugui/.local/lib/python3.10/site-packages/sentence_transformers/cross_encoder/CrossEncoder.py:13: TqdmExperimentalWarning: Using `tqdm.autonotebook.tqdm` in notebook mode. Use `tqdm.tqdm` instead to force console mode (e.g. in jupyter console)\n",
      "  from tqdm.autonotebook import tqdm, trange\n"
     ]
    }
   ],
   "source": [
    "import faiss\n",
    "import numpy as np\n",
    "from sentence_transformers import SentenceTransformer\n",
    "\n",
    "# Cargar modelo de embeddings\n",
    "model = SentenceTransformer('all-MiniLM-L6-v2')\n",
    "\n"
   ]
  },
  {
   "cell_type": "code",
   "execution_count": 5,
   "metadata": {},
   "outputs": [],
   "source": [
    "import json\n",
    "\n",
    "# Cargar el archivo JSON\n",
    "with open(\"grafo_hierarquia.json\", \"r\", encoding=\"utf-8\") as file:\n",
    "    grafo_json = json.load(file)\n",
    "    \n",
    "# Ahora `grafo_json` debería estar disponible para su uso en el bucle\n",
    "nodos = []\n",
    "for categoria, data in grafo_json.items():\n",
    "    nodos.append(categoria)\n",
    "    if 'subcategorias' in data:\n",
    "        for subcategoria in data['subcategorias']:\n",
    "            nodos.append(subcategoria)\n"
   ]
  },
  {
   "cell_type": "code",
   "execution_count": 6,
   "metadata": {},
   "outputs": [],
   "source": [
    "# Generar los embeddings para los nodos\n",
    "embeddings = model.encode(nodos)"
   ]
  },
  {
   "cell_type": "code",
   "execution_count": 7,
   "metadata": {},
   "outputs": [],
   "source": [
    "# Crear índice FAISS\n",
    "index = faiss.IndexFlatL2(embeddings.shape[1])  # Usar L2 distance\n",
    "index.add(np.array(embeddings))"
   ]
  },
  {
   "cell_type": "code",
   "execution_count": 33,
   "metadata": {},
   "outputs": [],
   "source": [
    "# Función de consulta\n",
    "def consulta_rag(consulta, index, nodos, model, k=5):\n",
    "    consulta_embedding = model.encode([consulta])\n",
    "    D, I = index.search(np.array(consulta_embedding), k=k)  # Buscar los 'k' nodos más cercanos\n",
    "    \n",
    "    print(f\"Consulta: {consulta}\")\n",
    "    for i in range(k):\n",
    "        print(f\"Resultado {i + 1}: {nodos[I[0][i]]} (Distancia: {D[0][i]:.4f})\")\n"
   ]
  },
  {
   "cell_type": "code",
   "execution_count": 34,
   "metadata": {},
   "outputs": [],
   "source": [
    "# Crear una lista de nodos (incluyendo plagas y momentos de aplicación)\n",
    "nodos = []\n",
    "\n",
    "# Recorrer la jerarquía de datos (categorías -> productos -> plagas -> momentos de aplicación)\n",
    "for cultivo, datos_cultivo in grafo_json.items():\n",
    "    nodos.append(cultivo)  # Añadir el cultivo como nodo\n",
    "    if 'Productos' in datos_cultivo:\n",
    "        for producto, info_producto in datos_cultivo['Productos'].items():\n",
    "            nodos.append(producto)  # Añadir el producto como nodo\n",
    "            if 'Controla a' in info_producto:\n",
    "                for plaga, detalles in info_producto['Controla a'].items():\n",
    "                    nodos.append(plaga)  # Añadir la plaga como nodo\n",
    "                    for momento in detalles['Momento de aplicacion']:\n",
    "                        nodos.append(momento)  # Añadir el momento de aplicación como nodo\n"
   ]
  },
  {
   "cell_type": "code",
   "execution_count": null,
   "metadata": {},
   "outputs": [
    {
     "name": "stdout",
     "output_type": "stream",
     "text": [
      "Embeddings y FAISS guardados exitosamente.\n"
     ]
    }
   ],
   "source": [
    "#Esta corrida demora aproximadamente 12 minutos\n",
    "\n",
    "import faiss\n",
    "import numpy as np\n",
    "from sentence_transformers import SentenceTransformer\n",
    "\n",
    "# Crear un modelo de embeddings (por ejemplo, Sentence-BERT)\n",
    "model = SentenceTransformer('all-MiniLM-L6-v2')\n",
    "\n",
    "# Convertir los nodos a embeddings\n",
    "nodos_embeddings = model.encode(nodos)\n",
    "\n",
    "# Convertir los embeddings a un array NumPy\n",
    "nodos_embeddings = np.array(nodos_embeddings)\n",
    "\n",
    "# Guardar los embeddings como archivo .npy\n",
    "np.save('nodos_embeddings.npy', nodos_embeddings)\n",
    "\n",
    "# Crear un índice FAISS (usando el índice de búsqueda más cercano)\n",
    "index = faiss.IndexFlatL2(nodos_embeddings.shape[1])  # Usar L2 para medir la distancia\n",
    "index.add(nodos_embeddings)  # Agregar los embeddings al índice\n",
    "\n",
    "# Guardar el índice FAISS en un archivo\n",
    "faiss.write_index(index, 'nodos_index.faiss')\n",
    "\n",
    "print(\"Embeddings y FAISS guardados exitosamente.\")\n"
   ]
  },
  {
   "cell_type": "code",
   "execution_count": 35,
   "metadata": {},
   "outputs": [
    {
     "name": "stdout",
     "output_type": "stream",
     "text": [
      "Consulta: soja\n",
      "Resultado 1: Soja (Distancia: 0.0000)\n",
      "Resultado 2: Sorgo (Distancia: 0.8770)\n",
      "Resultado 3: Arveja (Distancia: 0.8776)\n",
      "Resultado 4: Cercospora sojina (Distancia: 0.9114)\n",
      "Resultado 5: Cercospora sojina (Distancia: 0.9114)\n",
      "Resultado 6: Cercospora sojina (Distancia: 0.9114)\n",
      "Resultado 7: Cercospora sojina (Distancia: 0.9114)\n",
      "Resultado 8: Cercospora sojina (Distancia: 0.9114)\n",
      "Resultado 9: Cercospora sojina (Distancia: 0.9114)\n",
      "Resultado 10: Cercospora sojina (Distancia: 0.9114)\n"
     ]
    }
   ],
   "source": [
    "# Función de consulta\n",
    "def consulta_rag(consulta, index, nodos, model, k=10):\n",
    "    consulta_embedding = model.encode([consulta])  # Codificar la consulta\n",
    "    D, I = index.search(np.array(consulta_embedding), k)  # Buscar los k nodos más cercanos\n",
    "    \n",
    "    print(f\"Consulta: {consulta}\")\n",
    "    for i in range(k):\n",
    "        print(f\"Resultado {i + 1}: {nodos[I[0][i]]} (Distancia: {D[0][i]:.4f})\")\n",
    "\n",
    "# Ejemplo de consulta\n",
    "consulta_rag(\"soja\", index, nodos, model)\n"
   ]
  }
 ],
 "metadata": {
  "kernelspec": {
   "display_name": "Python 3",
   "language": "python",
   "name": "python3"
  },
  "language_info": {
   "codemirror_mode": {
    "name": "ipython",
    "version": 3
   },
   "file_extension": ".py",
   "mimetype": "text/x-python",
   "name": "python",
   "nbconvert_exporter": "python",
   "pygments_lexer": "ipython3",
   "version": "3.10.12"
  }
 },
 "nbformat": 4,
 "nbformat_minor": 2
}
