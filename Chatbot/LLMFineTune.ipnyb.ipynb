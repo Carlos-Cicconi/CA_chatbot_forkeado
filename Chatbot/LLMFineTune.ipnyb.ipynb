{
 "cells": [
  {
   "cell_type": "markdown",
   "id": "18eb6d84",
   "metadata": {},
   "source": [
    "<a id = \"1.0\"></a>\n",
    "<p style=\"font-size:15px;color:#34656d;font-family:'Comic Sans MS';text-align:right;border-radius:5px 5px;\">\n",
    "    <i>Aprender una técnica no es un fin en si mismo, simplemente indica por donde hay que empezar</i><br><b>Proverbio Japonés</b></p> "
   ]
  },
  {
   "cell_type": "markdown",
   "id": "6d7d7cd8",
   "metadata": {},
   "source": [
    "<a id = \"1.0\"></a>\n",
    "<p style=\"font-size:15px;color:#34656d;font-family:'Comic Sans MS';text-align:right;border-radius:5px 5px;\">\n",
    "<i>Material curado y organizado por el Prof. Dr. Hernán D. Merlino</i><br> \n",
    "<i>LLM Fine Tuning 1.0 - 2024 Q3</i></p> "
   ]
  },
  {
   "cell_type": "markdown",
   "id": "1cd27b7d",
   "metadata": {},
   "source": [
    "<a id = \"1.0\"></a>\n",
    "<p style=\"font-size:15px;color:#34656d;font-family:'Comic Sans MS';text-align:center;border-radius:5px 5px;\">\n",
    "<strong>_____________________________________________________________</strong></p> "
   ]
  },
  {
   "cell_type": "markdown",
   "id": "39613c5c",
   "metadata": {},
   "source": [
    "<a id = \"1.0\"></a>\n",
    "<p style=\"font-size:25px;color:#34656d;font-family:'Comic Sans MS';text-align:center;border-radius:5px 5px;\">\n",
    "<strong>Ajuste de modelos LLM</strong></p> "
   ]
  },
  {
   "cell_type": "markdown",
   "id": "e6e7bb02",
   "metadata": {},
   "source": [
    "<a id = \"1.0\"></a>\n",
    "<p style=\"font-size:12px;color:#34656d;font-family:'Comic Sans MS';text-align:right;border-radius:5px 5px;\">\n",
    "<a href=\"https://www.datacamp.com/tutorial/fine-tuning-large-language-models\" target=\\\"_blank\\\">Base del codigo de este Notebook adaptado de: An Introductory Guide to Fine-Tuning LLMs</a>\n",
    "</p>    "
   ]
  },
  {
   "cell_type": "markdown",
   "id": "38f94aeb",
   "metadata": {},
   "source": [
    "<a id = \"1.0\"></a>\n",
    "<p style=\"font-size:15px;color:#34656d;font-family:'Comic Sans MS';text-align:left;border-radius:5px 5px;\">\n",
    "<strong>Cuando Ajustar</strong><br>\n",
    "Disponibilidad de recursos<br>\n",
    "Rendimiento básico de modelos previamente entrenados<br>\n",
    "Complejidad y especificidad de la tarea<br>\n",
    "Disponibilidad de datos específicos de la tarea<br>\n",
    "</p> "
   ]
  },
  {
   "cell_type": "markdown",
   "id": "bdd38ee2",
   "metadata": {},
   "source": [
    "<a id = \"1.0\"></a>\n",
    "<p style=\"font-size:15px;color:#34656d;font-family:'Comic Sans MS';text-align:left;border-radius:5px 5px;\">\n",
    "<strong>Cargar librerias Pandas, Numpy y Warnings</strong></p> "
   ]
  },
  {
   "cell_type": "code",
   "execution_count": 1,
   "id": "c911a39c",
   "metadata": {},
   "outputs": [],
   "source": [
    "import warnings\n",
    "warnings.filterwarnings(\"ignore\")"
   ]
  },
  {
   "cell_type": "code",
   "execution_count": 2,
   "id": "aeeeb95c",
   "metadata": {},
   "outputs": [],
   "source": [
    "import os"
   ]
  },
  {
   "cell_type": "code",
   "execution_count": 3,
   "id": "25b8f99e",
   "metadata": {},
   "outputs": [
    {
     "name": "stdout",
     "output_type": "stream",
     "text": [
      "Pandas Version: 2.2.2\n"
     ]
    }
   ],
   "source": [
    "import pandas as pd\n",
    "#Configuración de parametros de Pandas para mejor visualización\n",
    "pd.set_option('display.max_columns', None)\n",
    "pd.set_option('display.max_rows', None)\n",
    "pd.set_option('display.max_colwidth', None)\n",
    "pd.set_option('display.precision', 3)\n",
    "pd.set_option('plotting.backend', 'matplotlib') \n",
    "pd.options.mode.chained_assignment = None\n",
    "\n",
    "# En produccion eliminar, se incluye por informacion\n",
    "print(f'Pandas Version: {pd.__version__}') "
   ]
  },
  {
   "cell_type": "code",
   "execution_count": 4,
   "id": "c0e50abd",
   "metadata": {},
   "outputs": [],
   "source": [
    "import numpy as np\n",
    "from datasets import load_dataset\n",
    "from transformers import GPT2Tokenizer\n",
    "from transformers import TrainingArguments, Trainer\n",
    "from transformers import GPT2ForSequenceClassification\n",
    "import evaluate\n",
    "import wandb"
   ]
  },
  {
   "cell_type": "code",
   "execution_count": 5,
   "id": "8d170c1f",
   "metadata": {},
   "outputs": [],
   "source": []
  },
  {
   "cell_type": "code",
   "execution_count": 6,
   "id": "5c9fb8d6",
   "metadata": {},
   "outputs": [],
   "source": []
  },
  {
   "cell_type": "code",
   "execution_count": 7,
   "id": "f300b61a",
   "metadata": {},
   "outputs": [],
   "source": []
  },
  {
   "cell_type": "code",
   "execution_count": 8,
   "id": "1634f7c7",
   "metadata": {},
   "outputs": [],
   "source": []
  },
  {
   "cell_type": "code",
   "execution_count": 9,
   "id": "fac8958f",
   "metadata": {},
   "outputs": [],
   "source": []
  },
  {
   "cell_type": "code",
   "execution_count": 10,
   "id": "ad20cec3",
   "metadata": {},
   "outputs": [],
   "source": []
  },
  {
   "cell_type": "markdown",
   "id": "f782c900",
   "metadata": {},
   "source": [
    "<a id = \"1.0\"></a>\n",
    "<p style=\"font-size:15px;color:#34656d;font-family:'Comic Sans MS';text-align:left;border-radius:5px 5px;\">\n",
    "<strong>Seleccionar un conjunto de datos que sera la base del ajuste</strong></p> "
   ]
  },
  {
   "cell_type": "code",
   "execution_count": 5,
   "id": "45117988",
   "metadata": {},
   "outputs": [],
   "source": [
    "BASE_DIR = '../'\n",
    "PATH_TO_TRAIN = os.path.join(BASE_DIR, 'basf/productos.csv')"
   ]
  },
  {
   "cell_type": "code",
   "execution_count": 6,
   "id": "21d4ad80",
   "metadata": {},
   "outputs": [],
   "source": [
    "df = pd.read_csv(PATH_TO_TRAIN, delimiter=';')"
   ]
  },
  {
   "cell_type": "code",
   "execution_count": 7,
   "id": "38ea243b",
   "metadata": {},
   "outputs": [],
   "source": [
    "df = pd.DataFrame(df)"
   ]
  },
  {
   "cell_type": "code",
   "execution_count": 8,
   "id": "cfb716ac",
   "metadata": {},
   "outputs": [
    {
     "data": {
      "text/html": [
       "<div>\n",
       "<style scoped>\n",
       "    .dataframe tbody tr th:only-of-type {\n",
       "        vertical-align: middle;\n",
       "    }\n",
       "\n",
       "    .dataframe tbody tr th {\n",
       "        vertical-align: top;\n",
       "    }\n",
       "\n",
       "    .dataframe thead th {\n",
       "        text-align: right;\n",
       "    }\n",
       "</style>\n",
       "<table border=\"1\" class=\"dataframe\">\n",
       "  <thead>\n",
       "    <tr style=\"text-align: right;\">\n",
       "      <th></th>\n",
       "      <th>nme_product</th>\n",
       "      <th>nme_target_scientific</th>\n",
       "      <th>nme_target</th>\n",
       "      <th>nme_crop</th>\n",
       "      <th>num_applic_dosage_min</th>\n",
       "      <th>num_applic_dosage_max</th>\n",
       "      <th>dsc_unit_mesure</th>\n",
       "      <th>dsc_applic_period</th>\n",
       "      <th>num_grace_period</th>\n",
       "    </tr>\n",
       "  </thead>\n",
       "  <tbody>\n",
       "    <tr>\n",
       "      <th>0</th>\n",
       "      <td>7344 VT Triple PRO</td>\n",
       "      <td>Helicoverpa gelotopoeon</td>\n",
       "      <td>Isoca bolillera</td>\n",
       "      <td>Maíz</td>\n",
       "      <td>0.0</td>\n",
       "      <td>0.0</td>\n",
       "      <td>NaN</td>\n",
       "      <td>NaN</td>\n",
       "      <td>NaN</td>\n",
       "    </tr>\n",
       "    <tr>\n",
       "      <th>1</th>\n",
       "      <td>7344 VT Triple PRO</td>\n",
       "      <td>Spodoptera frugiperda</td>\n",
       "      <td>Oruga militar tardía</td>\n",
       "      <td>Maíz</td>\n",
       "      <td>0.0</td>\n",
       "      <td>0.0</td>\n",
       "      <td>NaN</td>\n",
       "      <td>NaN</td>\n",
       "      <td>NaN</td>\n",
       "    </tr>\n",
       "    <tr>\n",
       "      <th>2</th>\n",
       "      <td>7349 VT Triple PRO</td>\n",
       "      <td>Helicoverpa gelotopoeon</td>\n",
       "      <td>Isoca bolillera</td>\n",
       "      <td>Maíz</td>\n",
       "      <td>0.0</td>\n",
       "      <td>0.0</td>\n",
       "      <td>NaN</td>\n",
       "      <td>NaN</td>\n",
       "      <td>NaN</td>\n",
       "    </tr>\n",
       "    <tr>\n",
       "      <th>3</th>\n",
       "      <td>7349 VT Triple PRO</td>\n",
       "      <td>Spodoptera frugiperda</td>\n",
       "      <td>Oruga militar tardía</td>\n",
       "      <td>Maíz</td>\n",
       "      <td>0.0</td>\n",
       "      <td>0.0</td>\n",
       "      <td>NaN</td>\n",
       "      <td>NaN</td>\n",
       "      <td>NaN</td>\n",
       "    </tr>\n",
       "    <tr>\n",
       "      <th>4</th>\n",
       "      <td>7349 VT Triple PRO</td>\n",
       "      <td>Spodoptera frugiperda</td>\n",
       "      <td>Oruga militar tardía</td>\n",
       "      <td>Maíz</td>\n",
       "      <td>0.0</td>\n",
       "      <td>0.0</td>\n",
       "      <td>NaN</td>\n",
       "      <td>NaN</td>\n",
       "      <td>NaN</td>\n",
       "    </tr>\n",
       "    <tr>\n",
       "      <th>5</th>\n",
       "      <td>Acrobat® MZ</td>\n",
       "      <td>Plasmopara viticola</td>\n",
       "      <td>Peronospora</td>\n",
       "      <td>Vid</td>\n",
       "      <td>3.0</td>\n",
       "      <td>0.0</td>\n",
       "      <td>kg/ha</td>\n",
       "      <td>Aplicar en forma preventiva cuando haya condiciones predisponentes para la aparición de la enfermedad, o bien desde la floración.</td>\n",
       "      <td>NaN</td>\n",
       "    </tr>\n",
       "    <tr>\n",
       "      <th>6</th>\n",
       "      <td>Acrobat® MZ</td>\n",
       "      <td>Phytophthora infestans</td>\n",
       "      <td>Tizón tardío de la papa</td>\n",
       "      <td>Papa</td>\n",
       "      <td>0.2</td>\n",
       "      <td>0.0</td>\n",
       "      <td>kg/100 kg de papa cortada</td>\n",
       "      <td>Aplicar preventivamente en estadío del cultivo R3-R4 (finales de floración, inicio de llenado de granos). De observarse síntomas de la enfermedad, realizar la aplicación al inicio de floración (R1).</td>\n",
       "      <td>NaN</td>\n",
       "    </tr>\n",
       "    <tr>\n",
       "      <th>7</th>\n",
       "      <td>Acronis®</td>\n",
       "      <td>Cercospora sojina</td>\n",
       "      <td>Mancha ojo de rana</td>\n",
       "      <td>Soja</td>\n",
       "      <td>100.0</td>\n",
       "      <td>0.0</td>\n",
       "      <td>ml/100 kg de semilla</td>\n",
       "      <td>Tratamiento de semilla antes de la siembra.</td>\n",
       "      <td>NaN</td>\n",
       "    </tr>\n",
       "    <tr>\n",
       "      <th>8</th>\n",
       "      <td>Acronis®</td>\n",
       "      <td>Rhizoctonia solani</td>\n",
       "      <td>Tizón de la vaina</td>\n",
       "      <td>Algodón</td>\n",
       "      <td>100.0</td>\n",
       "      <td>0.0</td>\n",
       "      <td>ml/100 kg de semilla</td>\n",
       "      <td>En condiciones de monocultivo utilizar la dosis a 150 ml/100 Kg de semilla. Aplicar a la semilla antes de la siembra. Una aplicación en tratamiento de semilla hasta 15 días antes de la siembra.</td>\n",
       "      <td>NaN</td>\n",
       "    </tr>\n",
       "    <tr>\n",
       "      <th>9</th>\n",
       "      <td>Acronis®</td>\n",
       "      <td>Botrytis cinerea</td>\n",
       "      <td>Botrytis</td>\n",
       "      <td>Papa</td>\n",
       "      <td>4.0</td>\n",
       "      <td>0.0</td>\n",
       "      <td>L/há</td>\n",
       "      <td>Aspersión en banda al fondo del surco durante la plantanción asperjando los tubérculos y el fondo del surco antes de cubrirlos con tierra.</td>\n",
       "      <td>NaN</td>\n",
       "    </tr>\n",
       "  </tbody>\n",
       "</table>\n",
       "</div>"
      ],
      "text/plain": [
       "          nme_product    nme_target_scientific               nme_target  \\\n",
       "0  7344 VT Triple PRO  Helicoverpa gelotopoeon          Isoca bolillera   \n",
       "1  7344 VT Triple PRO    Spodoptera frugiperda    Oruga militar tardía    \n",
       "2  7349 VT Triple PRO  Helicoverpa gelotopoeon          Isoca bolillera   \n",
       "3  7349 VT Triple PRO    Spodoptera frugiperda    Oruga militar tardía    \n",
       "4  7349 VT Triple PRO    Spodoptera frugiperda    Oruga militar tardía    \n",
       "5         Acrobat® MZ      Plasmopara viticola             Peronospora    \n",
       "6         Acrobat® MZ   Phytophthora infestans  Tizón tardío de la papa   \n",
       "7            Acronis®        Cercospora sojina       Mancha ojo de rana   \n",
       "8            Acronis®       Rhizoctonia solani        Tizón de la vaina   \n",
       "9            Acronis®         Botrytis cinerea                 Botrytis   \n",
       "\n",
       "  nme_crop  num_applic_dosage_min  num_applic_dosage_max  \\\n",
       "0     Maíz                    0.0                    0.0   \n",
       "1     Maíz                    0.0                    0.0   \n",
       "2     Maíz                    0.0                    0.0   \n",
       "3     Maíz                    0.0                    0.0   \n",
       "4     Maíz                    0.0                    0.0   \n",
       "5      Vid                    3.0                    0.0   \n",
       "6     Papa                    0.2                    0.0   \n",
       "7     Soja                  100.0                    0.0   \n",
       "8  Algodón                  100.0                    0.0   \n",
       "9     Papa                    4.0                    0.0   \n",
       "\n",
       "             dsc_unit_mesure  \\\n",
       "0                        NaN   \n",
       "1                        NaN   \n",
       "2                        NaN   \n",
       "3                        NaN   \n",
       "4                        NaN   \n",
       "5                      kg/ha   \n",
       "6  kg/100 kg de papa cortada   \n",
       "7       ml/100 kg de semilla   \n",
       "8       ml/100 kg de semilla   \n",
       "9                       L/há   \n",
       "\n",
       "                                                                                                                                                                                        dsc_applic_period  \\\n",
       "0                                                                                                                                                                                                     NaN   \n",
       "1                                                                                                                                                                                                     NaN   \n",
       "2                                                                                                                                                                                                     NaN   \n",
       "3                                                                                                                                                                                                     NaN   \n",
       "4                                                                                                                                                                                                     NaN   \n",
       "5                                                                       Aplicar en forma preventiva cuando haya condiciones predisponentes para la aparición de la enfermedad, o bien desde la floración.   \n",
       "6  Aplicar preventivamente en estadío del cultivo R3-R4 (finales de floración, inicio de llenado de granos). De observarse síntomas de la enfermedad, realizar la aplicación al inicio de floración (R1).   \n",
       "7                                                                                                                                                             Tratamiento de semilla antes de la siembra.   \n",
       "8       En condiciones de monocultivo utilizar la dosis a 150 ml/100 Kg de semilla. Aplicar a la semilla antes de la siembra. Una aplicación en tratamiento de semilla hasta 15 días antes de la siembra.   \n",
       "9                                                              Aspersión en banda al fondo del surco durante la plantanción asperjando los tubérculos y el fondo del surco antes de cubrirlos con tierra.   \n",
       "\n",
       "  num_grace_period  \n",
       "0              NaN  \n",
       "1              NaN  \n",
       "2              NaN  \n",
       "3              NaN  \n",
       "4              NaN  \n",
       "5              NaN  \n",
       "6              NaN  \n",
       "7              NaN  \n",
       "8              NaN  \n",
       "9              NaN  "
      ]
     },
     "execution_count": 8,
     "metadata": {},
     "output_type": "execute_result"
    }
   ],
   "source": [
    "df.head(10)"
   ]
  },
  {
   "cell_type": "markdown",
   "id": "262974e5",
   "metadata": {},
   "source": [
    "<a id = \"1.0\"></a>\n",
    "<p style=\"font-size:15px;color:#34656d;font-family:'Comic Sans MS';text-align:left;border-radius:5px 5px;\">\n",
    "<strong>Tokenizar el nuevo conjunto de datos</strong></p> "
   ]
  },
  {
   "cell_type": "code",
   "execution_count": 9,
   "id": "6f109e47",
   "metadata": {},
   "outputs": [],
   "source": [
    "tokenizer = GPT2Tokenizer.from_pretrained(\"gpt2\")"
   ]
  },
  {
   "cell_type": "code",
   "execution_count": 10,
   "id": "7d1a2f59",
   "metadata": {},
   "outputs": [],
   "source": [
    "tokenizer.pad_token = tokenizer.eos_token"
   ]
  },
  {
   "cell_type": "code",
   "execution_count": 11,
   "id": "bd920642",
   "metadata": {},
   "outputs": [],
   "source": [
    "def tokenize_function(examples):\n",
    "   return tokenizer(examples['nme_product'], padding=\"max_length\", truncation=True)"
   ]
  },
  {
   "cell_type": "code",
   "execution_count": 13,
   "id": "e7a7aea4",
   "metadata": {},
   "outputs": [
    {
     "ename": "NameError",
     "evalue": "name 'Dataset' is not defined",
     "output_type": "error",
     "traceback": [
      "\u001b[1;31m---------------------------------------------------------------------------\u001b[0m",
      "\u001b[1;31mNameError\u001b[0m                                 Traceback (most recent call last)",
      "Cell \u001b[1;32mIn[13], line 1\u001b[0m\n\u001b[1;32m----> 1\u001b[0m dataset \u001b[38;5;241m=\u001b[39m \u001b[43mDataset\u001b[49m\u001b[38;5;241m.\u001b[39mfrom_pandas(df)\n",
      "\u001b[1;31mNameError\u001b[0m: name 'Dataset' is not defined"
     ]
    }
   ],
   "source": [
    "\n",
    "\n",
    "dataset = Dataset.from_pandas(df)"
   ]
  },
  {
   "cell_type": "code",
   "execution_count": 12,
   "id": "729eeefe",
   "metadata": {},
   "outputs": [
    {
     "ename": "NameError",
     "evalue": "name 'dataset' is not defined",
     "output_type": "error",
     "traceback": [
      "\u001b[1;31m---------------------------------------------------------------------------\u001b[0m",
      "\u001b[1;31mNameError\u001b[0m                                 Traceback (most recent call last)",
      "Cell \u001b[1;32mIn[12], line 1\u001b[0m\n\u001b[1;32m----> 1\u001b[0m tokenized_datasets \u001b[38;5;241m=\u001b[39m \u001b[43mdataset\u001b[49m\u001b[38;5;241m.\u001b[39mmap(tokenize_function, batched\u001b[38;5;241m=\u001b[39m\u001b[38;5;28;01mTrue\u001b[39;00m)\n",
      "\u001b[1;31mNameError\u001b[0m: name 'dataset' is not defined"
     ]
    }
   ],
   "source": [
    "tokenized_datasets = dataset.map(tokenize_function, batched=True)"
   ]
  },
  {
   "cell_type": "markdown",
   "id": "6ee32475",
   "metadata": {},
   "source": [
    "<a id = \"1.0\"></a>\n",
    "<p style=\"font-size:15px;color:#34656d;font-family:'Comic Sans MS';text-align:left;border-radius:5px 5px;\">\n",
    "<strong>Este paso se hace para reducir el tiempo de entrenamiento, a modo de ejemplo</strong></p> "
   ]
  },
  {
   "cell_type": "code",
   "execution_count": 19,
   "id": "3fdb584a",
   "metadata": {},
   "outputs": [],
   "source": [
    "small_train_dataset = tokenized_datasets[\"train\"].shuffle(seed=42).select(range(1000))\n",
    "small_eval_dataset = tokenized_datasets[\"test\"].shuffle(seed=42).select(range(1000))"
   ]
  },
  {
   "cell_type": "markdown",
   "id": "96d80737",
   "metadata": {},
   "source": [
    "<a id = \"1.0\"></a>\n",
    "<p style=\"font-size:15px;color:#34656d;font-family:'Comic Sans MS';text-align:left;border-radius:5px 5px;\">\n",
    "<strong>Se inicializa el modelo original</strong></p> "
   ]
  },
  {
   "cell_type": "code",
   "execution_count": null,
   "id": "aae4545b",
   "metadata": {},
   "outputs": [],
   "source": [
    "model = GPT2ForSequenceClassification.from_pretrained(\"gpt2\", num_labels=3)"
   ]
  },
  {
   "cell_type": "markdown",
   "id": "37cd056d",
   "metadata": {},
   "source": [
    "<a id = \"1.0\"></a>\n",
    "<p style=\"font-size:15px;color:#34656d;font-family:'Comic Sans MS';text-align:left;border-radius:5px 5px;\">\n",
    "<strong>Evaluar</strong></p> "
   ]
  },
  {
   "cell_type": "code",
   "execution_count": 21,
   "id": "43ed6327",
   "metadata": {},
   "outputs": [],
   "source": [
    "metric = evaluate.load(\"accuracy\")"
   ]
  },
  {
   "cell_type": "code",
   "execution_count": 22,
   "id": "b3b28cfc",
   "metadata": {},
   "outputs": [],
   "source": [
    "def compute_metrics(eval_pred):\n",
    "   logits, labels = eval_pred\n",
    "   predictions = np.argmax(logits, axis=-1)\n",
    "   return metric.compute(predictions=predictions, references=labels)"
   ]
  },
  {
   "cell_type": "markdown",
   "id": "9d88fb59",
   "metadata": {},
   "source": [
    "<a id = \"1.0\"></a>\n",
    "<p style=\"font-size:15px;color:#34656d;font-family:'Comic Sans MS';text-align:left;border-radius:5px 5px;\">\n",
    "<strong>Pasar los argumentos para el entrenamiento fino</strong></p> "
   ]
  },
  {
   "cell_type": "code",
   "execution_count": 23,
   "id": "b7a6200f",
   "metadata": {},
   "outputs": [],
   "source": [
    "training_args = TrainingArguments(\n",
    "   output_dir=\"test_trainer\",\n",
    "   #evaluation_strategy=\"epoch\",\n",
    "   per_device_train_batch_size=1,  # Reduce batch size here\n",
    "   per_device_eval_batch_size=1,    # Optionally, reduce for evaluation as well\n",
    "   gradient_accumulation_steps=4\n",
    "   )"
   ]
  },
  {
   "cell_type": "code",
   "execution_count": 24,
   "id": "8a067f7d",
   "metadata": {},
   "outputs": [],
   "source": [
    "trainer = Trainer(\n",
    "                  model=model,\n",
    "                  args=training_args,\n",
    "                  train_dataset=small_train_dataset,\n",
    "                  eval_dataset=small_eval_dataset,\n",
    "                  compute_metrics=compute_metrics,\n",
    "                  )"
   ]
  },
  {
   "cell_type": "code",
   "execution_count": null,
   "id": "5dd31997",
   "metadata": {},
   "outputs": [],
   "source": [
    "os.environ[\"WANDB_API_KEY\"] = '1fb92cbef7cf96e3a0bf98c4e08241e5df3e033f'\n",
    "wandb.init(project=\"LLMFineTune\",)"
   ]
  },
  {
   "cell_type": "code",
   "execution_count": null,
   "id": "b396f0d9",
   "metadata": {},
   "outputs": [],
   "source": [
    "trainer.train()"
   ]
  },
  {
   "cell_type": "code",
   "execution_count": null,
   "id": "685d0745",
   "metadata": {},
   "outputs": [],
   "source": [
    "trainer.evaluate()"
   ]
  },
  {
   "cell_type": "code",
   "execution_count": null,
   "id": "d590a85e",
   "metadata": {},
   "outputs": [],
   "source": []
  }
 ],
 "metadata": {
  "kernelspec": {
   "display_name": "ldi2",
   "language": "python",
   "name": "python3"
  },
  "language_info": {
   "codemirror_mode": {
    "name": "ipython",
    "version": 3
   },
   "file_extension": ".py",
   "mimetype": "text/x-python",
   "name": "python",
   "nbconvert_exporter": "python",
   "pygments_lexer": "ipython3",
   "version": "3.12.5"
  }
 },
 "nbformat": 4,
 "nbformat_minor": 5
}
