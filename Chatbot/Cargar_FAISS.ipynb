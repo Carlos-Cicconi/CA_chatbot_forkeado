{
 "cells": [
  {
   "cell_type": "code",
   "execution_count": 2,
   "metadata": {},
   "outputs": [],
   "source": [
    "import numpy as np\n",
    "import faiss\n",
    "from sentence_transformers import SentenceTransformer\n",
    "\n",
    "# Cargar embeddings y el índice FAISS\n",
    "nodos_embeddings = np.load('nodos_embeddings.npy')\n",
    "index = faiss.read_index('nodos_index.faiss')"
   ]
  },
  {
   "cell_type": "code",
   "execution_count": null,
   "metadata": {},
   "outputs": [],
   "source": [
    "# Inicializar el modelo\n",
    "model = SentenceTransformer('all-MiniLM-L6-v2')"
   ]
  },
  {
   "cell_type": "code",
   "execution_count": null,
   "metadata": {},
   "outputs": [],
   "source": [
    "# Lista de nodos (asegúrate de que coincide con los datos de los embeddings)\n",
    "nodos = [\"nodos_index.faiss\"]"
   ]
  },
  {
   "cell_type": "code",
   "execution_count": 9,
   "metadata": {},
   "outputs": [],
   "source": [
    "\n",
    "# Lista de nodos (asegúrate de que coincide con los datos de los embeddings)\n",
    "nodos = [\"nodo1\", \"nodo2\", \"nodo3\", \"...\"]"
   ]
  },
  {
   "cell_type": "code",
   "execution_count": 17,
   "metadata": {},
   "outputs": [
    {
     "name": "stdout",
     "output_type": "stream",
     "text": [
      "Consulta: arroz\n"
     ]
    },
    {
     "ename": "IndexError",
     "evalue": "list index out of range",
     "output_type": "error",
     "traceback": [
      "\u001b[0;31m---------------------------------------------------------------------------\u001b[0m",
      "\u001b[0;31mIndexError\u001b[0m                                Traceback (most recent call last)",
      "Cell \u001b[0;32mIn[17], line 11\u001b[0m\n\u001b[1;32m      8\u001b[0m         \u001b[38;5;28mprint\u001b[39m(\u001b[38;5;124mf\u001b[39m\u001b[38;5;124m\"\u001b[39m\u001b[38;5;124mResultado \u001b[39m\u001b[38;5;132;01m{\u001b[39;00mi\u001b[38;5;250m \u001b[39m\u001b[38;5;241m+\u001b[39m\u001b[38;5;250m \u001b[39m\u001b[38;5;241m1\u001b[39m\u001b[38;5;132;01m}\u001b[39;00m\u001b[38;5;124m: \u001b[39m\u001b[38;5;132;01m{\u001b[39;00mnodos[I[\u001b[38;5;241m0\u001b[39m][i]]\u001b[38;5;132;01m}\u001b[39;00m\u001b[38;5;124m (Distancia: \u001b[39m\u001b[38;5;132;01m{\u001b[39;00mD[\u001b[38;5;241m0\u001b[39m][i]\u001b[38;5;132;01m:\u001b[39;00m\u001b[38;5;124m.4f\u001b[39m\u001b[38;5;132;01m}\u001b[39;00m\u001b[38;5;124m)\u001b[39m\u001b[38;5;124m\"\u001b[39m)\n\u001b[1;32m     10\u001b[0m \u001b[38;5;66;03m# Ejemplo de consulta\u001b[39;00m\n\u001b[0;32m---> 11\u001b[0m \u001b[43mconsulta_rag\u001b[49m\u001b[43m(\u001b[49m\u001b[38;5;124;43m\"\u001b[39;49m\u001b[38;5;124;43marroz\u001b[39;49m\u001b[38;5;124;43m\"\u001b[39;49m\u001b[43m,\u001b[49m\u001b[43m \u001b[49m\u001b[43mindex\u001b[49m\u001b[43m,\u001b[49m\u001b[43m \u001b[49m\u001b[43mnodos\u001b[49m\u001b[43m,\u001b[49m\u001b[43m \u001b[49m\u001b[43mmodel\u001b[49m\u001b[43m)\u001b[49m\n",
      "Cell \u001b[0;32mIn[17], line 8\u001b[0m, in \u001b[0;36mconsulta_rag\u001b[0;34m(consulta, index, nodos, model, k)\u001b[0m\n\u001b[1;32m      6\u001b[0m \u001b[38;5;28mprint\u001b[39m(\u001b[38;5;124mf\u001b[39m\u001b[38;5;124m\"\u001b[39m\u001b[38;5;124mConsulta: \u001b[39m\u001b[38;5;132;01m{\u001b[39;00mconsulta\u001b[38;5;132;01m}\u001b[39;00m\u001b[38;5;124m\"\u001b[39m)\n\u001b[1;32m      7\u001b[0m \u001b[38;5;28;01mfor\u001b[39;00m i \u001b[38;5;129;01min\u001b[39;00m \u001b[38;5;28mrange\u001b[39m(k):\n\u001b[0;32m----> 8\u001b[0m     \u001b[38;5;28mprint\u001b[39m(\u001b[38;5;124mf\u001b[39m\u001b[38;5;124m\"\u001b[39m\u001b[38;5;124mResultado \u001b[39m\u001b[38;5;132;01m{\u001b[39;00mi\u001b[38;5;250m \u001b[39m\u001b[38;5;241m+\u001b[39m\u001b[38;5;250m \u001b[39m\u001b[38;5;241m1\u001b[39m\u001b[38;5;132;01m}\u001b[39;00m\u001b[38;5;124m: \u001b[39m\u001b[38;5;132;01m{\u001b[39;00m\u001b[43mnodos\u001b[49m\u001b[43m[\u001b[49m\u001b[43mI\u001b[49m\u001b[43m[\u001b[49m\u001b[38;5;241;43m0\u001b[39;49m\u001b[43m]\u001b[49m\u001b[43m[\u001b[49m\u001b[43mi\u001b[49m\u001b[43m]\u001b[49m\u001b[43m]\u001b[49m\u001b[38;5;132;01m}\u001b[39;00m\u001b[38;5;124m (Distancia: \u001b[39m\u001b[38;5;132;01m{\u001b[39;00mD[\u001b[38;5;241m0\u001b[39m][i]\u001b[38;5;132;01m:\u001b[39;00m\u001b[38;5;124m.4f\u001b[39m\u001b[38;5;132;01m}\u001b[39;00m\u001b[38;5;124m)\u001b[39m\u001b[38;5;124m\"\u001b[39m)\n",
      "\u001b[0;31mIndexError\u001b[0m: list index out of range"
     ]
    }
   ],
   "source": [
    "# Definir la función de consulta\n",
    "def consulta_rag(consulta, index, nodos, model, k=5):\n",
    "    consulta_embedding = model.encode([consulta])\n",
    "    D, I = index.search(np.array(consulta_embedding), k)\n",
    "    \n",
    "    print(f\"Consulta: {consulta}\")\n",
    "    for i in range(k):\n",
    "        print(f\"Resultado {i + 1}: {nodos[I[0][i]]} (Distancia: {D[0][i]:.4f})\")\n",
    "\n",
    "# Ejemplo de consulta\n",
    "consulta_rag(\"arroz\", index, nodos, model)"
   ]
  },
  {
   "cell_type": "code",
   "execution_count": 18,
   "metadata": {},
   "outputs": [
    {
     "name": "stdout",
     "output_type": "stream",
     "text": [
      "Consulta: arroz\n",
      "Distancias (D): [[2.1730066e-13 6.2418938e-01 1.0416648e+00 1.0424937e+00]]\n",
      "Índices (I): [[18136 14780     0 25986]]\n",
      "Resultado 1: Índice fuera de rango\n",
      "Resultado 2: Índice fuera de rango\n",
      "Resultado 3: nodo1 (Distancia: 1.0417)\n",
      "Resultado 4: Índice fuera de rango\n"
     ]
    }
   ],
   "source": [
    "import numpy as np\n",
    "import faiss\n",
    "from sentence_transformers import SentenceTransformer\n",
    "\n",
    "# Cargar embeddings y el índice FAISS\n",
    "nodos_embeddings = np.load('nodos_embeddings.npy')\n",
    "index = faiss.read_index('nodos_index.faiss')\n",
    "\n",
    "# Inicializar el modelo\n",
    "model = SentenceTransformer('all-MiniLM-L6-v2')\n",
    "\n",
    "# Lista de nodos (asegúrate de que coincide con los datos de los embeddings)\n",
    "nodos = [\"nodo1\", \"nodo2\", \"nodo3\", \"...\"]  # Asegúrate de que esta lista tenga el mismo tamaño que nodos_embeddings\n",
    "\n",
    "# Definir la función de consulta\n",
    "def consulta_rag(consulta, index, nodos, model, k=5):\n",
    "    k = min(k, len(nodos))  # Limitar k al número de nodos disponibles\n",
    "    consulta_embedding = model.encode([consulta])\n",
    "\n",
    "    # Asegurarse de que el embedding tenga la forma correcta (1, embedding_dimension)\n",
    "    consulta_embedding = np.array(consulta_embedding).reshape(1, -1)\n",
    "    D, I = index.search(consulta_embedding, k)\n",
    "    \n",
    "    print(f\"Consulta: {consulta}\")\n",
    "    print(\"Distancias (D):\", D)  # Imprime las distancias obtenidas\n",
    "    print(\"Índices (I):\", I)  # Imprime los índices obtenidos\n",
    "\n",
    "    # Comprobar si los índices están dentro del rango de nodos\n",
    "    for i in range(k):\n",
    "        if I[0][i] < len(nodos):\n",
    "            print(f\"Resultado {i + 1}: {nodos[I[0][i]]} (Distancia: {D[0][i]:.4f})\")\n",
    "        else:\n",
    "            print(f\"Resultado {i + 1}: Índice fuera de rango\")\n",
    "\n",
    "# Ejemplo de consulta\n",
    "consulta_rag(\"arroz\", index, nodos, model)\n"
   ]
  },
  {
   "cell_type": "code",
   "execution_count": 20,
   "metadata": {},
   "outputs": [
    {
     "name": "stdout",
     "output_type": "stream",
     "text": [
      "Consulta: soja\n"
     ]
    }
   ],
   "source": [
    "import numpy as np\n",
    "import faiss\n",
    "from sentence_transformers import SentenceTransformer\n",
    "from collections import Counter\n",
    "\n",
    "# Cargar embeddings y el índice FAISS\n",
    "nodos_embeddings = np.load('nodos_embeddings.npy')\n",
    "index = faiss.read_index('nodos_index.faiss')\n",
    "\n",
    "# Inicializar el modelo\n",
    "model = SentenceTransformer('all-MiniLM-L6-v2')\n",
    "\n",
    "# Lista de nodos (asegúrate de que coincide con los datos de los embeddings)\n",
    "nodos = [\"Soja\", \"Sorgo\", \"Arveja\", \"Cercospora sojina\", \"...\"]  # Lista completa de nodos\n",
    "\n",
    "# Definir la función de consulta\n",
    "def consulta_rag(consulta, index, nodos, model, k=10):\n",
    "    # Limitar k al número de nodos disponibles\n",
    "    consulta_embedding = model.encode([consulta])\n",
    "    consulta_embedding = np.array(consulta_embedding).reshape(1, -1)\n",
    "    D, I = index.search(consulta_embedding, k)\n",
    "    \n",
    "    print(f\"Consulta: {consulta}\")\n",
    "\n",
    "    # Crear una lista de resultados con nombres de nodos y distancias\n",
    "    resultados = [(nodos[I[0][i]], D[0][i]) for i in range(k) if I[0][i] < len(nodos)]\n",
    "\n",
    "    # Agrupar y contar las ocurrencias de cada nodo\n",
    "    resultados_agrupados = Counter(resultados)\n",
    "    \n",
    "    # Mostrar los resultados agrupados y ordenados por distancia\n",
    "    for i, ((nombre, distancia), count) in enumerate(resultados_agrupados.most_common(), start=1):\n",
    "        print(f\"Resultado {i}: {nombre} (Distancia: {distancia:.4f})\")\n",
    "        if count > 1:\n",
    "            for _ in range(count - 1):\n",
    "                i += 1\n",
    "                print(f\"Resultado {i}: {nombre} (Distancia: {distancia:.4f})\")\n",
    "        if i >= k:\n",
    "            break\n",
    "\n",
    "# Ejemplo de consulta\n",
    "consulta_rag(\"soja\", index, nodos, model)\n"
   ]
  }
 ],
 "metadata": {
  "kernelspec": {
   "display_name": "Python 3",
   "language": "python",
   "name": "python3"
  },
  "language_info": {
   "codemirror_mode": {
    "name": "ipython",
    "version": 3
   },
   "file_extension": ".py",
   "mimetype": "text/x-python",
   "name": "python",
   "nbconvert_exporter": "python",
   "pygments_lexer": "ipython3",
   "version": "3.10.12"
  }
 },
 "nbformat": 4,
 "nbformat_minor": 2
}
