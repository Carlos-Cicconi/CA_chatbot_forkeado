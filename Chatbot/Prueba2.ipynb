{
 "cells": [
  {
   "cell_type": "code",
   "execution_count": 29,
   "metadata": {},
   "outputs": [
    {
     "name": "stdout",
     "output_type": "stream",
     "text": [
      "Cultivo: Maíz\n",
      "  Producto: Fastac®\n",
      "    Plaga: Rachiplusia nu\n",
      "      Aplicar cuando se registren 3-4 Isocas por m².\n",
      "Cultivo: Lino\n",
      "  Producto: Fastac®\n",
      "    Plaga: Rachiplusia nu\n",
      "      Aplicar cuando se registren 3-4 Isocas por m².\n",
      "Cultivo: Soja\n",
      "  Producto: Fastac®\n",
      "    Plaga: Rachiplusia nu\n",
      "      Aplicar cuando se registren 3-4 Isocas por m².\n",
      "Cultivo: Alfafa\n",
      "  Producto: Fastac®\n",
      "    Plaga: Rachiplusia nu\n",
      "      Aplicar cuando se registren 3-4 Isocas por m².\n",
      "Cultivo: Girasol\n",
      "  Producto: Fastac®\n",
      "    Plaga: Rachiplusia nu\n",
      "      Aplicar cuando se registren 3-4 Isocas por m².\n",
      "Cultivo: Sorgo\n",
      "  Producto: Fastac®\n",
      "    Plaga: Rachiplusia nu\n",
      "      Aplicar cuando se registren 3-4 Isocas por m².\n",
      "Cultivo: Trigo\n",
      "  Producto: Fastac®\n",
      "    Plaga: Rachiplusia nu\n",
      "      Aplicar cuando se registren 3-4 Isocas por m².\n",
      "Cultivo: Algodón\n",
      "  Producto: Fastac®\n",
      "    Plaga: Rachiplusia nu\n",
      "      Aplicar cuando se registren 3-4 Isocas por m².\n"
     ]
    }
   ],
   "source": [
    "import json\n",
    "\n",
    "# Cargar datos desde un archivo JSON\n",
    "with open('grafo_hierarquia.json', 'r', encoding='utf-8') as archivo:\n",
    "    categorias = json.load(archivo)\n",
    "    \n",
    "# Definir la función para buscar en la estructura jerárquica\n",
    "def buscar_categoria(categorias, busqueda):\n",
    "    resultados = {}\n",
    "    for cultivo, datos_cultivo in categorias.items():\n",
    "        if 'Productos' in datos_cultivo:\n",
    "            for producto, info_producto in datos_cultivo['Productos'].items():\n",
    "                if 'Controla a' in info_producto:\n",
    "                    for plaga, detalles in info_producto['Controla a'].items():\n",
    "                        if busqueda.lower() in plaga.lower() or any(busqueda.lower() in momento.lower() for momento in detalles['Momento de aplicacion']):\n",
    "                            if cultivo not in resultados:\n",
    "                                resultados[cultivo] = {}\n",
    "                            if producto not in resultados[cultivo]:\n",
    "                                resultados[cultivo][producto] = {}\n",
    "                            resultados[cultivo][producto][plaga] = detalles['Momento de aplicacion']\n",
    "    \n",
    "    # Imprimir los resultados\n",
    "    if resultados:\n",
    "        for cultivo, productos in resultados.items():\n",
    "            print(f\"Cultivo: {cultivo}\")\n",
    "            for producto, plagas in productos.items():\n",
    "                print(f\"  Producto: {producto}\")\n",
    "                for plaga, momentos in plagas.items():\n",
    "                    print(f\"    Plaga: {plaga}\")\n",
    "                    for momento in momentos:\n",
    "                        print(f\"      {momento}\")\n",
    "    else:\n",
    "        print(\"No se encontraron resultados para:\", busqueda)\n",
    "\n",
    "# Ejemplo de búsqueda\n",
    "buscar_categoria(categorias, 'Rachiplusia Nu')  # Cambia por el término que buscas\n",
    "\n"
   ]
  }
 ],
 "metadata": {
  "kernelspec": {
   "display_name": "Python 3",
   "language": "python",
   "name": "python3"
  },
  "language_info": {
   "codemirror_mode": {
    "name": "ipython",
    "version": 3
   },
   "file_extension": ".py",
   "mimetype": "text/x-python",
   "name": "python",
   "nbconvert_exporter": "python",
   "pygments_lexer": "ipython3",
   "version": "3.10.12"
  }
 },
 "nbformat": 4,
 "nbformat_minor": 2
}
