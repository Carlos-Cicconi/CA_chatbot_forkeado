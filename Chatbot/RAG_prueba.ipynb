{
 "cells": [
  {
   "cell_type": "markdown",
   "id": "be7d1604",
   "metadata": {},
   "source": [
    "<a id = \"1.0\"></a>\n",
    "<p style=\"font-size:15px;color:#34656d;font-family:'Comic Sans MS';text-align:right;border-radius:5px 5px;\">\n",
    "    <i>Aprender una técnica no es un fin en si mismo, simplemente indica por donde hay que empezar</i><br><b>Proverbio Japonés</b></p> "
   ]
  },
  {
   "cell_type": "markdown",
   "id": "8addd52b",
   "metadata": {},
   "source": [
    "<a id = \"1.0\"></a>\n",
    "<p style=\"font-size:15px;color:#34656d;font-family:'Comic Sans MS';text-align:right;border-radius:5px 5px;\">\n",
    "<i>Material curado y organizado por el Prof. Dr. Hernán D. Merlino</i><br> \n",
    "<i>Retrieval Augmented Generation (RAG)  Versión 2.0 - 2024 Q3</i></p> "
   ]
  },
  {
   "cell_type": "markdown",
   "id": "c48b32fe",
   "metadata": {},
   "source": [
    "<a id = \"1.0\"></a>\n",
    "<p style=\"font-size:15px;color:#34656d;font-family:'Comic Sans MS';text-align:center;border-radius:5px 5px;\">\n",
    "<strong>_____________________________________________________________</strong></p> "
   ]
  },
  {
   "cell_type": "markdown",
   "id": "cba67b1b",
   "metadata": {},
   "source": [
    "<a id = \"1.0\"></a>\n",
    "<p style=\"font-size:25px;color:#34656d;font-family:'Comic Sans MS';text-align:center;border-radius:5px 5px;\">\n",
    "<strong>R</strong>etrieval <strong>A</strong>ugmented <strong>G</strong>eneration</p> "
   ]
  },
  {
   "cell_type": "markdown",
   "id": "e23f6ae3",
   "metadata": {},
   "source": [
    "<a id = \"1.0\"></a>\n",
    "<p style=\"font-size:15px;color:#34656d;font-family:'Comic Sans MS';text-align:left;border-radius:5px 5px;\">\n",
    "<strong>Cargar librerías</strong></p> "
   ]
  },
  {
   "cell_type": "code",
   "execution_count": 1,
   "id": "97c04648",
   "metadata": {},
   "outputs": [],
   "source": [
    "import warnings\n",
    "warnings.filterwarnings(\"ignore\")"
   ]
  },
  {
   "cell_type": "code",
   "execution_count": 2,
   "id": "ec417e26",
   "metadata": {},
   "outputs": [],
   "source": [
    "from sklearn.feature_extraction.text import TfidfVectorizer\n",
    "from sklearn.metrics.pairwise import cosine_similarity"
   ]
  },
  {
   "cell_type": "raw",
   "id": "3ccd14a2",
   "metadata": {},
   "source": [
    "conda install -c huggingface transformers=4.11.3"
   ]
  },
  {
   "cell_type": "code",
   "execution_count": 3,
   "id": "dc9994cf",
   "metadata": {},
   "outputs": [],
   "source": [
    "from transformers import pipeline"
   ]
  },
  {
   "cell_type": "markdown",
   "id": "c5049094",
   "metadata": {},
   "source": [
    "<p style=\"font-size:17px;color:#34656d;font-family:'Comic Sans MS';text-align:left;border-radius:5px 5px;\">\n",
    "<a href=\"https://huggingface.co/docs/transformers/main_classes/pipelines\" target=\\\"_blank\\\">Pipelines Method</a></p>\n",
    "\n",
    "<p style=\"font-size:17px;color:#34656d;font-family:'Comic Sans MS';text-align:left;border-radius:5px 5px;\">\n",
    "<a href=\"https://huggingface.co/docs/transformers/v4.46.0/en/add_new_pipeline\" target=\\\"_blank\\\">How to create a custom pipeline?</a></p>"
   ]
  },
  {
   "cell_type": "code",
   "execution_count": 4,
   "id": "15b8552b",
   "metadata": {},
   "outputs": [],
   "source": [
    "generator = pipeline(task=\"text-generation\",model=\"datificate/gpt2-small-spanish\")"
   ]
  },
  {
   "cell_type": "markdown",
   "id": "affd33a8",
   "metadata": {},
   "source": [
    "<p style=\"font-size:17px;color:#34656d;font-family:'Comic Sans MS';text-align:left;border-radius:5px 5px;\">\n",
    "<a href=\"https://huggingface.co/models?pipeline_tag=text-generation&sort=trending&search=spanish\" target=\\\"_blank\\\">Spanish models</a></p>"
   ]
  },
  {
   "cell_type": "markdown",
   "id": "9d86c718",
   "metadata": {},
   "source": [
    "<p style=\"font-size:15px;color:#34656d;font-family:'Comic Sans MS';text-align:left;border-radius:5px 5px;\">\n",
    "<a href=\"https:///huggingface.co/datificate/gpt2-small-spanish\" target=\\\"_blank\\\">GPT2-small-spanish is a state-of-the-art language model for Spanish based on the GPT-2 small model</a></p>"
   ]
  },
  {
   "cell_type": "markdown",
   "id": "fa1c5be1",
   "metadata": {},
   "source": [
    "<a id = \"1.0\"></a>\n",
    "<p style=\"font-size:15px;color:#34656d;font-family:'Comic Sans MS';text-align:left;border-radius:5px 5px;\">\n",
    "<strong>Corpus de documentos</strong></p> "
   ]
  },
  {
   "cell_type": "code",
   "execution_count": 5,
   "id": "34789bee",
   "metadata": {},
   "outputs": [],
   "source": [
    "documents = [\n",
    "\"La inteligencia artificial es una tecnología que permite a las máquinas aprender y hacer tareas inteligentes.\",\n",
    "\"El machine learning es una rama de la inteligencia artificial que se enfoca en enseñar a las computadoras mediante datos.\",\n",
    "\"Python es un lenguaje popular para el desarrollo de inteligencia artificial debido a sus bibliotecas como TensorFlow y PyTorch.\",\n",
    "\"El aprendizaje profundo o deep learning es una técnica avanzada de machine learning que usa redes neuronales profundas.\",\n",
    "\"El machine learning es una tecnica de aparendizaje automático.\"\n",
    "            ]"
   ]
  },
  {
   "cell_type": "markdown",
   "id": "12d4a504",
   "metadata": {},
   "source": [
    "<a id = \"1.0\"></a>\n",
    "<p style=\"font-size:15px;color:#34656d;font-family:'Comic Sans MS';text-align:left;border-radius:5px 5px;\">\n",
    "<strong>Vectorización</strong></p> "
   ]
  },
  {
   "cell_type": "code",
   "execution_count": 6,
   "id": "7597a365",
   "metadata": {},
   "outputs": [],
   "source": [
    "vectorizer = TfidfVectorizer()\n",
    "doc_vectors = vectorizer.fit_transform(documents)"
   ]
  },
  {
   "cell_type": "markdown",
   "id": "0d10e09f",
   "metadata": {},
   "source": [
    "<a id = \"1.0\"></a>\n",
    "<p style=\"font-size:15px;color:#34656d;font-family:'Comic Sans MS';text-align:left;border-radius:5px 5px;\">\n",
    "<strong>Métodos</strong></p> "
   ]
  },
  {
   "cell_type": "code",
   "execution_count": 7,
   "id": "8d348d6f",
   "metadata": {},
   "outputs": [],
   "source": [
    "def retrieve_document(query, vectorizer, doc_vectors):\n",
    "    query_vector = vectorizer.transform([query])\n",
    "    similarities = cosine_similarity(query_vector, doc_vectors)\n",
    "    most_similar_idx = similarities.argmax()\n",
    "    return documents[most_similar_idx]"
   ]
  },
  {
   "cell_type": "code",
   "execution_count": 8,
   "id": "60869151",
   "metadata": {
    "code_folding": []
   },
   "outputs": [],
   "source": [
    "def rag_example(query):\n",
    "    document = retrieve_document(query, vectorizer, doc_vectors)\n",
    "    answer = generator(document,\n",
    "                       max_length=50,\n",
    "                       num_return_sequences=1,\n",
    "                       temperature=0.95,\n",
    "                       top_k=50,  \n",
    "                       top_p=0.9)\n",
    "    return answer[0][\"generated_text\"]"
   ]
  },
  {
   "cell_type": "markdown",
   "id": "2b456820",
   "metadata": {},
   "source": [
    "<a id = \"1.0\"></a>\n",
    "<p style=\"font-size:15px;color:#34656d;font-family:'Comic Sans MS';text-align:left;border-radius:5px 5px;\">\n",
    "<strong><u>Params</u></strong>:\n",
    "<ul style=\"font-size:15px;color:#34656d;font-family:'Comic Sans MS';text-align:left;border-radius:5px 5px;\">\n",
    "<li><i><b>document:</b></i> texto base</li>\n",
    "<li><i><b>max_length:</b></i> genera hasta 50 tokens</li>\n",
    "<li><i><b>num_return_sequences:</b></i> retorna solo un texto</li>\n",
    "<li><i><b>temperature:</b></i> ajusta la creatividad del modelo</li>\n",
    "<li><i><b>top_k y top_p:</b></i> controlan la selección de palabras para una generación más coherente y variada</li>\n",
    "</ul></p>"
   ]
  },
  {
   "cell_type": "markdown",
   "id": "7a14f258",
   "metadata": {},
   "source": [
    "<a id = \"1.0\"></a>\n",
    "<p style=\"font-size:15px;color:#34656d;font-family:'Comic Sans MS';text-align:left;border-radius:5px 5px;\">\n",
    "<strong>Pregunta</strong></p> "
   ]
  },
  {
   "cell_type": "code",
   "execution_count": 11,
   "id": "1bcab490",
   "metadata": {},
   "outputs": [
    {
     "name": "stderr",
     "output_type": "stream",
     "text": [
      "Setting `pad_token_id` to `eos_token_id`:50256 for open-end generation.\n"
     ]
    }
   ],
   "source": [
    "query = \"¿Qué es el machine learning?\"\n",
    "answer = rag_example(query)"
   ]
  },
  {
   "cell_type": "markdown",
   "id": "db5321db",
   "metadata": {},
   "source": [
    "<a id = \"1.0\"></a>\n",
    "<p style=\"font-size:15px;color:#34656d;font-family:'Comic Sans MS';text-align:left;border-radius:5px 5px;\">\n",
    "<strong>Respuesta</strong></p> "
   ]
  },
  {
   "cell_type": "code",
   "execution_count": 12,
   "id": "4ffe0721",
   "metadata": {},
   "outputs": [
    {
     "name": "stdout",
     "output_type": "stream",
     "text": [
      "El machine learning es una tecnica de aparendizaje automático. Un dispositivo de posicionamiento automático y visualización de información en la mente de un usuario puede ser usado para la orientación de la imagen, las acciones de control de la imagen, la\n"
     ]
    }
   ],
   "source": [
    "print(answer)"
   ]
  },
  {
   "cell_type": "markdown",
   "id": "b6151c90",
   "metadata": {},
   "source": [
    "<a id = \"1.0\"></a>\n",
    "<p style=\"font-size:15px;color:#34656d;font-family:'Comic Sans MS';text-align:center;border-radius:5px 5px;\">\n",
    "<strong>_____________________________________________________________</strong></p> "
   ]
  },
  {
   "cell_type": "markdown",
   "id": "04ab8422",
   "metadata": {},
   "source": [
    "<a id = \"1.0\"></a>\n",
    "<p style=\"font-size:15px;color:#34656d;font-family:'Comic Sans MS';text-align:center;border-radius:5px 5px;\">\n",
    "<strong>_____________________________________________________________</strong></p> "
   ]
  }
 ],
 "metadata": {
  "kernelspec": {
   "display_name": "rag",
   "language": "python",
   "name": "rag"
  },
  "language_info": {
   "codemirror_mode": {
    "name": "ipython",
    "version": 3
   },
   "file_extension": ".py",
   "mimetype": "text/x-python",
   "name": "python",
   "nbconvert_exporter": "python",
   "pygments_lexer": "ipython3",
   "version": "3.9.15"
  }
 },
 "nbformat": 4,
 "nbformat_minor": 5
}
