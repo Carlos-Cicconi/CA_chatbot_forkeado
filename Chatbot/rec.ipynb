{
 "cells": [
  {
   "cell_type": "code",
   "execution_count": 1,
   "metadata": {},
   "outputs": [],
   "source": [
    "import os\n",
    "BASE_DIR = '../'\n",
    "PATH_TO_TRAIN = os.path.join(BASE_DIR, 'basf/productos.csv')"
   ]
  },
  {
   "cell_type": "code",
   "execution_count": null,
   "metadata": {},
   "outputs": [],
   "source": [
    "import pandas as pd\n",
    "\n",
    "# Cargar el dataset\n",
    "df = pd.read_csv(PATH_TO_TRAIN, sep=';')\n",
    "\n",
    "# Filtrar columnas relevantes\n",
    "df = df[['nme_product', 'nme_target', 'nme_crop']]\n",
    "\n",
    "# Eliminar duplicados y datos faltantes\n",
    "df.dropna(inplace=True)\n",
    "df.drop_duplicates(inplace=True)\n",
    "\n",
    "# Verificar el conjunto de datos procesado\n",
    "print(df.head())"
   ]
  },
  {
   "cell_type": "code",
   "execution_count": null,
   "metadata": {},
   "outputs": [],
   "source": [
    "from sentence_transformers import SentenceTransformer, util\n",
    "\n",
    "# Cargar el modelo de lenguaje preentrenado\n",
    "model = SentenceTransformer('all-MiniLM-L6-v2')\n",
    "\n",
    "# Combinar columnas de plaga y cultivo para crear el contexto completo\n",
    "df['context'] = df['nme_target'] + ' ' + df['nme_crop']\n",
    "\n",
    "# Generar embeddings para cada contexto (combinación de plaga y cultivo)\n",
    "context_embeddings = model.encode(df['context'], convert_to_tensor=True)\n",
    "\n",
    "# Función para recomendar productos según cultivo y plaga\n",
    "def recomendar_producto(cultivo, plaga, top_n=5):\n",
    "    # Crear la consulta a partir del cultivo y la plaga\n",
    "    query = plaga + ' ' + cultivo\n",
    "    query_embedding = model.encode(query, convert_to_tensor=True)\n",
    "\n",
    "    # Calcular la similitud entre la consulta y los contextos\n",
    "    cos_sim = util.pytorch_cos_sim(query_embedding, context_embeddings)\n",
    "\n",
    "    # Obtener los índices de las mejores coincidencias\n",
    "    top_results = cos_sim.argsort(descending=True).flatten()[:top_n]\n",
    "\n",
    "    # Devolver los productos recomendados\n",
    "    return df.iloc[top_results]['nme_product'].values"
   ]
  },
  {
   "cell_type": "code",
   "execution_count": null,
   "metadata": {},
   "outputs": [],
   "source": [
    "productos_recomendados = recomendar_producto('Maíz', 'Isoca bolillera')\n",
    "print(productos_recomendados)"
   ]
  },
  {
   "cell_type": "code",
   "execution_count": null,
   "metadata": {},
   "outputs": [],
   "source": [
    "from sentence_transformers import SentenceTransformer, util\n",
    "\n",
    "# Cargar el modelo de lenguaje preentrenado\n",
    "model = SentenceTransformer('all-MiniLM-L6-v2')\n",
    "\n",
    "# Combinar columnas de plaga y cultivo para crear el contexto completo\n",
    "df['context'] = df['nme_target'] + ' ' + df['nme_crop']\n",
    "df.reset_index(drop=True, inplace=True)\n",
    "\n",
    "# Generar embeddings para cada contexto (combinación de plaga y cultivo)\n",
    "context_embeddings = model.encode(df['context'], convert_to_tensor=True)\n",
    "\n",
    "# Función para recomendar productos según cultivo y plaga\n",
    "def recomendar_producto(cultivo, plaga, top_n=5):\n",
    "    # Crear la consulta a partir del cultivo y la plaga\n",
    "    query = plaga + ' ' + cultivo\n",
    "    query_embedding = model.encode(query, convert_to_tensor=True)\n",
    "\n",
    "    # Calcular la similitud entre la consulta y los contextos\n",
    "    cos_sim = util.pytorch_cos_sim(query_embedding, context_embeddings)\n",
    "\n",
    "    # Obtener los índices de las mejores coincidencias\n",
    "    top_results = cos_sim.argsort(descending=True).flatten()\n",
    "\n",
    "    # Manejar si hay menos de top_n resultados\n",
    "    if len(top_results) == 0:\n",
    "        return \"No se encontraron productos coincidentes.\"\n",
    "    else:\n",
    "        # Limitar a top_n o a la cantidad de resultados disponibles\n",
    "        top_results = top_results[:min(top_n, len(top_results))]\n",
    "\n",
    "        # Devolver los productos recomendados\n",
    "        return df.iloc[top_results]['nme_product'].values\n",
    "\n"
   ]
  },
  {
   "cell_type": "code",
   "execution_count": null,
   "metadata": {},
   "outputs": [],
   "source": [
    "productos_recomendados = recomendar_producto('Maíz', 'Isoca bolillera')\n",
    "print(productos_recomendados)"
   ]
  }
 ],
 "metadata": {
  "kernelspec": {
   "display_name": "ldi2",
   "language": "python",
   "name": "python3"
  },
  "language_info": {
   "codemirror_mode": {
    "name": "ipython",
    "version": 3
   },
   "file_extension": ".py",
   "mimetype": "text/x-python",
   "name": "python",
   "nbconvert_exporter": "python",
   "pygments_lexer": "ipython3",
   "version": "3.12.5"
  }
 },
 "nbformat": 4,
 "nbformat_minor": 2
}
